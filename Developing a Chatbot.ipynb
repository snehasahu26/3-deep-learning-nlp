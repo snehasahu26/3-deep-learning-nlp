{
 "cells": [
  {
   "cell_type": "markdown",
   "metadata": {},
   "source": [
    "<img src=\"../Pics/MLSb-T.png\" width=\"160\">\n",
    "<br><br>\n",
    "<center><u><H1>Developing a Chatbot</H1></u></center>"
   ]
  },
  {
   "cell_type": "code",
   "execution_count": 1,
   "metadata": {},
   "outputs": [
    {
     "name": "stderr",
     "output_type": "stream",
     "text": [
      "Using TensorFlow backend.\n"
     ]
    }
   ],
   "source": [
    "import tensorflow as tf\n",
    "from keras.backend.tensorflow_backend import set_session\n",
    "config = tf.ConfigProto()\n",
    "config.gpu_options.allow_growth = True\n",
    "config.log_device_placement = True\n",
    "sess = tf.Session(config=config)\n",
    "set_session(sess)"
   ]
  },
  {
   "cell_type": "markdown",
   "metadata": {},
   "source": [
    "### The bAbi project:\n",
    "The dataset was made open source by Facebook AI research.\n",
    "https://research.fb.com/downloads/babi/\n",
    "\n",
    "It is a set of 20 QA tasks, each consisting of several context-question-answer triplets.\n",
    "\n",
    "https://github.com/facebook/bAbI-tasks\n",
    "\n",
    "The original paper: Towards AI-Complete Question Answering: A Set of Prerequisite Toy Tasks.\n",
    "https://arxiv.org/abs/1502.05698\n"
   ]
  },
  {
   "cell_type": "code",
   "execution_count": 2,
   "metadata": {},
   "outputs": [],
   "source": [
    "from keras.models import Sequential, Model\n",
    "from keras.layers.embeddings import Embedding\n",
    "from keras.layers import Input, Activation, Dense, CuDNNLSTM, Permute, Dropout, BatchNormalization, add, dot, concatenate\n",
    "from keras.utils.data_utils import get_file\n",
    "from keras.preprocessing.sequence import pad_sequences\n",
    "from keras.optimizers import Adam\n",
    "from functools import reduce\n",
    "import tarfile\n",
    "import numpy as np\n",
    "import re"
   ]
  },
  {
   "cell_type": "markdown",
   "metadata": {},
   "source": [
    "## Loading the data:"
   ]
  },
  {
   "cell_type": "code",
   "execution_count": 3,
   "metadata": {},
   "outputs": [],
   "source": [
    "def tokenize(sent): ## splitting the text in tokens including punctuation\n",
    "    return [x.strip() for x in re.split('(\\W+)?', sent) if x.strip()]"
   ]
  },
  {
   "cell_type": "code",
   "execution_count": 4,
   "metadata": {},
   "outputs": [],
   "source": [
    "#Parse stories provided in the bAbi tasks format\n",
    "#If only_supporting is true, only the sentences\n",
    "#that support the answer are kept.\n",
    "def parse_stories(lines, only_supporting=False):\n",
    "    data = []\n",
    "    story = []\n",
    "    for line in lines:\n",
    "        line = line.decode('utf-8').strip()\n",
    "        id, line = line.split(' ', 1)\n",
    "        id = int(id)\n",
    "        if id == 1:\n",
    "            story = []\n",
    "        if '\\t' in line:\n",
    "            q, a, supporting = line.split('\\t')\n",
    "            q = tokenize(q)\n",
    "            substory = None\n",
    "            if only_supporting:\n",
    "                # Only select the related substory\n",
    "                supporting = map(int, supporting.split())\n",
    "                substory = [story[i - 1] for i in supporting]\n",
    "            else:\n",
    "                # Provide all the substories\n",
    "                substory = [x for x in story if x]\n",
    "            data.append((substory, q, a))\n",
    "            story.append('')\n",
    "        else:\n",
    "            sent = tokenize(line)\n",
    "            story.append(sent)\n",
    "    return data"
   ]
  },
  {
   "cell_type": "code",
   "execution_count": 5,
   "metadata": {},
   "outputs": [],
   "source": [
    "#Given a file, read the file, retrieve the stories,\n",
    "#and then convert the sentences into a single story.\n",
    "#If max_length is supplied, any stories longer than max_length tokens will be discarded.\n",
    "def get_stories(file, only_supporting=False, max_length=None):\n",
    "    data = parse_stories(file.readlines(), only_supporting=only_supporting)\n",
    "    flat = lambda data: reduce(lambda i, j: i + j, data)\n",
    "    data = [(flat(story), question, answer) for story, question, answer in data if not max_length or len(flat(story)) < max_length]\n",
    "    return data"
   ]
  },
  {
   "cell_type": "code",
   "execution_count": 6,
   "metadata": {},
   "outputs": [],
   "source": [
    "def vectorize_stories(data, word_id, story_maxlen, question_maxlen):\n",
    "    X = []\n",
    "    Q = []\n",
    "    Y = []\n",
    "    for story, question, answer in data:\n",
    "        x = [word_id[i] for i in story]\n",
    "        q = [word_id[i] for i in question]\n",
    "        # Index 0 is reserved\n",
    "        y = np.zeros(len(word_id) + 1)\n",
    "        y[word_id[answer]] = 1\n",
    "        X.append(x)\n",
    "        Q.append(q)\n",
    "        Y.append(y)\n",
    "    return (pad_sequences(X, maxlen=story_maxlen), pad_sequences(Q, maxlen=question_maxlen), np.array(Y))"
   ]
  },
  {
   "cell_type": "markdown",
   "metadata": {},
   "source": [
    "## Loading the data:"
   ]
  },
  {
   "cell_type": "code",
   "execution_count": 7,
   "metadata": {},
   "outputs": [],
   "source": [
    "tar_file = tarfile.open(get_file('babi-tasks-v1-2.tar.gz',\n",
    "                                 origin='https://s3.amazonaws.com/text-datasets/babi_tasks_1-20_v1-2.tar.gz'))"
   ]
  },
  {
   "cell_type": "code",
   "execution_count": 8,
   "metadata": {},
   "outputs": [
    {
     "name": "stderr",
     "output_type": "stream",
     "text": [
      "C:\\Anaconda36\\envs\\tf111_gpu\\lib\\re.py:212: FutureWarning: split() requires a non-empty pattern match.\n",
      "  return _compile(pattern, flags).split(string, maxsplit)\n"
     ]
    }
   ],
   "source": [
    "challenges = {\n",
    "    'single_supporting_fact_10k': 'tasks_1-20_v1-2/en-10k/qa1_single-supporting-fact_{}.txt', # QA1 with 10,000 samples\n",
    "    'two_supporting_facts_10k': 'tasks_1-20_v1-2/en-10k/qa2_two-supporting-facts_{}.txt', # QA2 with 10,000 samples\n",
    "}\n",
    "challenge_type = 'single_supporting_fact_10k'\n",
    "challenge = challenges[challenge_type]\n",
    "\n",
    "train_stories = get_stories(tar_file.extractfile(challenge.format('train')))\n",
    "test_stories = get_stories(tar_file.extractfile(challenge.format('test')))"
   ]
  },
  {
   "cell_type": "code",
   "execution_count": 9,
   "metadata": {},
   "outputs": [
    {
     "name": "stdout",
     "output_type": "stream",
     "text": [
      "Train stories lenght: 10000\n",
      "Test stories lenght: 1000\n"
     ]
    }
   ],
   "source": [
    "print('Train stories lenght:', len(train_stories))\n",
    "print('Test stories lenght:', len(test_stories))"
   ]
  },
  {
   "cell_type": "markdown",
   "metadata": {},
   "source": [
    "### stories are tuple (input, question, answer)"
   ]
  },
  {
   "cell_type": "code",
   "execution_count": 10,
   "metadata": {},
   "outputs": [
    {
     "data": {
      "text/plain": [
       "(['Mary',\n",
       "  'moved',\n",
       "  'to',\n",
       "  'the',\n",
       "  'bathroom',\n",
       "  '.',\n",
       "  'John',\n",
       "  'went',\n",
       "  'to',\n",
       "  'the',\n",
       "  'hallway',\n",
       "  '.',\n",
       "  'Daniel',\n",
       "  'went',\n",
       "  'back',\n",
       "  'to',\n",
       "  'the',\n",
       "  'hallway',\n",
       "  '.',\n",
       "  'Sandra',\n",
       "  'moved',\n",
       "  'to',\n",
       "  'the',\n",
       "  'garden',\n",
       "  '.'],\n",
       " ['Where', 'is', 'Daniel', '?'],\n",
       " 'hallway')"
      ]
     },
     "execution_count": 10,
     "metadata": {},
     "output_type": "execute_result"
    }
   ],
   "source": [
    "train_stories[1]"
   ]
  },
  {
   "cell_type": "code",
   "execution_count": 11,
   "metadata": {},
   "outputs": [
    {
     "data": {
      "text/plain": [
       "(['John',\n",
       "  'travelled',\n",
       "  'to',\n",
       "  'the',\n",
       "  'hallway',\n",
       "  '.',\n",
       "  'Mary',\n",
       "  'journeyed',\n",
       "  'to',\n",
       "  'the',\n",
       "  'bathroom',\n",
       "  '.',\n",
       "  'Daniel',\n",
       "  'went',\n",
       "  'back',\n",
       "  'to',\n",
       "  'the',\n",
       "  'bathroom',\n",
       "  '.',\n",
       "  'John',\n",
       "  'moved',\n",
       "  'to',\n",
       "  'the',\n",
       "  'bedroom',\n",
       "  '.'],\n",
       " ['Where', 'is', 'Mary', '?'],\n",
       " 'bathroom')"
      ]
     },
     "execution_count": 11,
     "metadata": {},
     "output_type": "execute_result"
    }
   ],
   "source": [
    "test_stories[1]"
   ]
  },
  {
   "cell_type": "code",
   "execution_count": 12,
   "metadata": {},
   "outputs": [],
   "source": [
    "vocab = set()\n",
    "for story, question, answer in train_stories + test_stories:\n",
    "    vocab |= set(story + question + [answer])\n",
    "vocab = sorted(vocab)\n",
    "print(vocab)"
   ]
  },
  {
   "cell_type": "code",
   "execution_count": 14,
   "metadata": {},
   "outputs": [
    {
     "data": {
      "text/plain": [
       "22"
      ]
     },
     "execution_count": 14,
     "metadata": {},
     "output_type": "execute_result"
    }
   ],
   "source": [
    "# Reserve 0 for masking via pad_sequences\n",
    "vocab_size = len(vocab) + 1\n",
    "vocab_size"
   ]
  },
  {
   "cell_type": "code",
   "execution_count": 15,
   "metadata": {},
   "outputs": [],
   "source": [
    "story_maxlen = max(map(len, (s for s, _, _ in train_stories + test_stories)))\n",
    "question_maxlen = max(map(len, (s for _, s, _ in train_stories + test_stories)))"
   ]
  },
  {
   "cell_type": "code",
   "execution_count": 16,
   "metadata": {},
   "outputs": [
    {
     "name": "stdout",
     "output_type": "stream",
     "text": [
      "Story max length: 68\n",
      "Query max length: 4\n"
     ]
    }
   ],
   "source": [
    "print('Story max length:', story_maxlen)\n",
    "print('Question max length:', question_maxlen)"
   ]
  },
  {
   "cell_type": "markdown",
   "metadata": {},
   "source": [
    "### Vectorizing stories:"
   ]
  },
  {
   "cell_type": "code",
   "execution_count": 17,
   "metadata": {},
   "outputs": [
    {
     "name": "stdout",
     "output_type": "stream",
     "text": [
      "{'.': 1, '?': 2, 'Daniel': 3, 'John': 4, 'Mary': 5, 'Sandra': 6, 'Where': 7, 'back': 8, 'bathroom': 9, 'bedroom': 10, 'garden': 11, 'hallway': 12, 'is': 13, 'journeyed': 14, 'kitchen': 15, 'moved': 16, 'office': 17, 'the': 18, 'to': 19, 'travelled': 20, 'went': 21}\n"
     ]
    }
   ],
   "source": [
    "word2id = dict((w, i + 1) for i, w in enumerate(vocab))\n",
    "print(word2id)"
   ]
  },
  {
   "cell_type": "code",
   "execution_count": 18,
   "metadata": {},
   "outputs": [],
   "source": [
    "inputs_train, questions_train, answers_train = vectorize_stories(train_stories, word2id, story_maxlen, question_maxlen)"
   ]
  },
  {
   "cell_type": "code",
   "execution_count": 19,
   "metadata": {},
   "outputs": [],
   "source": [
    "inputs_test, questions_test, answers_test = vectorize_stories(test_stories, word2id, story_maxlen, question_maxlen)"
   ]
  },
  {
   "cell_type": "code",
   "execution_count": 20,
   "metadata": {},
   "outputs": [
    {
     "name": "stdout",
     "output_type": "stream",
     "text": [
      "inputs_train shape: (10000, 68)\n",
      "inputs_test shape: (1000, 68)\n"
     ]
    }
   ],
   "source": [
    "print('inputs_train shape:', inputs_train.shape)\n",
    "print('inputs_test shape:', inputs_test.shape)"
   ]
  },
  {
   "cell_type": "code",
   "execution_count": 21,
   "metadata": {},
   "outputs": [
    {
     "name": "stdout",
     "output_type": "stream",
     "text": [
      "queries_train shape: (10000, 4)\n",
      "queries_test shape: (1000, 4)\n"
     ]
    }
   ],
   "source": [
    "print('queries_train shape:', questions_train.shape)\n",
    "print('queries_test shape:', questions_test.shape)"
   ]
  },
  {
   "cell_type": "code",
   "execution_count": 22,
   "metadata": {},
   "outputs": [
    {
     "name": "stdout",
     "output_type": "stream",
     "text": [
      "answers_train shape: (10000, 22)\n",
      "answers_test shape: (1000, 22)\n"
     ]
    }
   ],
   "source": [
    "print('answers_train shape:', answers_train.shape)\n",
    "print('answers_test shape:', answers_test.shape)"
   ]
  },
  {
   "cell_type": "markdown",
   "metadata": {},
   "source": [
    "## Creating the model an End to End Memory Network:"
   ]
  },
  {
   "cell_type": "markdown",
   "metadata": {},
   "source": [
    "## Memory module:"
   ]
  },
  {
   "cell_type": "code",
   "execution_count": 23,
   "metadata": {},
   "outputs": [],
   "source": [
    "story_sequence = Input((story_maxlen,))\n",
    "question = Input((question_maxlen,))\n",
    "\n",
    "# embed the input sequence into a sequence of vectors for the stories\n",
    "input_encoder_s = Sequential()\n",
    "input_encoder_s.add(Embedding(input_dim=vocab_size, output_dim=64))\n",
    "input_encoder_s.add(Dropout(0.3))\n",
    "\n",
    "# embed the input into a sequence of vectors of size question_maxlen\n",
    "# output: (samples, story_maxlen, question_maxlen)\n",
    "input_encoder_q = Sequential()\n",
    "input_encoder_q.add(Embedding(input_dim=vocab_size, output_dim=question_maxlen))\n",
    "input_encoder_q.add(Dropout(0.3))\n",
    "\n",
    "# embed the question into a sequence of vectors\n",
    "question_encoder = Sequential()\n",
    "question_encoder.add(Embedding(input_dim=vocab_size, output_dim=64, input_length=question_maxlen))\n",
    "question_encoder.add(Dropout(0.3))"
   ]
  },
  {
   "cell_type": "markdown",
   "metadata": {},
   "source": [
    "## Controller module:"
   ]
  },
  {
   "cell_type": "code",
   "execution_count": 24,
   "metadata": {},
   "outputs": [],
   "source": [
    "# encode input sequence and questions to sequences of dense vectors\n",
    "input_encoded_s = input_encoder_s(story_sequence)\n",
    "input_encoded_q = input_encoder_q(story_sequence)\n",
    "question_encoded = question_encoder(question)\n",
    "\n",
    "# compute a 'match' between the first input vector sequence\n",
    "# and the question vector sequence\n",
    "# shape: `(samples, story_maxlen, question_maxlen)`\n",
    "match = dot([input_encoded_s, question_encoded], axes=(2, 2))\n",
    "match = Activation('softmax')(match)\n",
    "\n",
    "# add the match matrix with the second input vector sequence\n",
    "response = add([match, input_encoded_q])  # (samples, story_maxlen, question_maxlen)\n",
    "response = Permute((2, 1))(response)  # (samples, question_maxlen, story_maxlen)\n",
    "\n",
    "# concatenate the match matrix with the question vector sequence\n",
    "answer = concatenate([response, question_encoded])\n",
    "\n",
    "answer = CuDNNLSTM(32)(answer)  # (samples, 32)\n",
    "answer = Dropout(0.3)(answer)\n",
    "answer = BatchNormalization()(answer)\n",
    "\n",
    "output = Dense(vocab_size)(answer)  # (samples, vocab_size)\n",
    "output = Activation('softmax')(output)"
   ]
  },
  {
   "cell_type": "code",
   "execution_count": 25,
   "metadata": {},
   "outputs": [],
   "source": [
    "model = Model([story_sequence, question], output)"
   ]
  },
  {
   "cell_type": "code",
   "execution_count": 26,
   "metadata": {},
   "outputs": [
    {
     "name": "stdout",
     "output_type": "stream",
     "text": [
      "__________________________________________________________________________________________________\n",
      "Layer (type)                    Output Shape         Param #     Connected to                     \n",
      "==================================================================================================\n",
      "input_1 (InputLayer)            (None, 68)           0                                            \n",
      "__________________________________________________________________________________________________\n",
      "input_2 (InputLayer)            (None, 4)            0                                            \n",
      "__________________________________________________________________________________________________\n",
      "sequential_1 (Sequential)       multiple             1408        input_1[0][0]                    \n",
      "__________________________________________________________________________________________________\n",
      "sequential_3 (Sequential)       (None, 4, 64)        1408        input_2[0][0]                    \n",
      "__________________________________________________________________________________________________\n",
      "dot_1 (Dot)                     (None, 68, 4)        0           sequential_1[1][0]               \n",
      "                                                                 sequential_3[1][0]               \n",
      "__________________________________________________________________________________________________\n",
      "activation_1 (Activation)       (None, 68, 4)        0           dot_1[0][0]                      \n",
      "__________________________________________________________________________________________________\n",
      "sequential_2 (Sequential)       multiple             88          input_1[0][0]                    \n",
      "__________________________________________________________________________________________________\n",
      "add_1 (Add)                     (None, 68, 4)        0           activation_1[0][0]               \n",
      "                                                                 sequential_2[1][0]               \n",
      "__________________________________________________________________________________________________\n",
      "permute_1 (Permute)             (None, 4, 68)        0           add_1[0][0]                      \n",
      "__________________________________________________________________________________________________\n",
      "concatenate_1 (Concatenate)     (None, 4, 132)       0           permute_1[0][0]                  \n",
      "                                                                 sequential_3[1][0]               \n",
      "__________________________________________________________________________________________________\n",
      "cu_dnnlstm_1 (CuDNNLSTM)        (None, 32)           21248       concatenate_1[0][0]              \n",
      "__________________________________________________________________________________________________\n",
      "dropout_4 (Dropout)             (None, 32)           0           cu_dnnlstm_1[0][0]               \n",
      "__________________________________________________________________________________________________\n",
      "batch_normalization_1 (BatchNor (None, 32)           128         dropout_4[0][0]                  \n",
      "__________________________________________________________________________________________________\n",
      "dense_1 (Dense)                 (None, 22)           726         batch_normalization_1[0][0]      \n",
      "__________________________________________________________________________________________________\n",
      "activation_2 (Activation)       (None, 22)           0           dense_1[0][0]                    \n",
      "==================================================================================================\n",
      "Total params: 25,006\n",
      "Trainable params: 24,942\n",
      "Non-trainable params: 64\n",
      "__________________________________________________________________________________________________\n"
     ]
    }
   ],
   "source": [
    "model.summary()"
   ]
  },
  {
   "cell_type": "code",
   "execution_count": 27,
   "metadata": {},
   "outputs": [],
   "source": [
    "model.compile(optimizer=Adam(0.005), loss='categorical_crossentropy', metrics=['accuracy'])"
   ]
  },
  {
   "cell_type": "markdown",
   "metadata": {},
   "source": [
    "## Training the model:"
   ]
  },
  {
   "cell_type": "code",
   "execution_count": 28,
   "metadata": {},
   "outputs": [
    {
     "name": "stdout",
     "output_type": "stream",
     "text": [
      "Train on 10000 samples, validate on 1000 samples\n",
      "Epoch 1/120\n",
      "10000/10000 [==============================] - 15s 2ms/step - loss: 2.3546 - acc: 0.1626 - val_loss: 2.0295 - val_acc: 0.1670\n",
      "Epoch 2/120\n",
      "10000/10000 [==============================] - 1s 66us/step - loss: 1.6036 - acc: 0.3373 - val_loss: 1.5268 - val_acc: 0.4080\n",
      "Epoch 3/120\n",
      "10000/10000 [==============================] - 1s 72us/step - loss: 1.4646 - acc: 0.4188 - val_loss: 1.3265 - val_acc: 0.4820\n",
      "Epoch 4/120\n",
      "10000/10000 [==============================] - 1s 71us/step - loss: 1.3730 - acc: 0.4641 - val_loss: 1.3066 - val_acc: 0.4710\n",
      "Epoch 5/120\n",
      "10000/10000 [==============================] - 1s 65us/step - loss: 1.2995 - acc: 0.4863 - val_loss: 1.2623 - val_acc: 0.5040\n",
      "Epoch 6/120\n",
      "10000/10000 [==============================] - 1s 63us/step - loss: 1.2691 - acc: 0.4848 - val_loss: 1.2155 - val_acc: 0.5050\n",
      "Epoch 7/120\n",
      "10000/10000 [==============================] - 1s 63us/step - loss: 1.2418 - acc: 0.4918 - val_loss: 1.2895 - val_acc: 0.4650\n",
      "Epoch 8/120\n",
      "10000/10000 [==============================] - 1s 61us/step - loss: 1.2217 - acc: 0.4929 - val_loss: 1.2011 - val_acc: 0.4950\n",
      "Epoch 9/120\n",
      "10000/10000 [==============================] - 1s 63us/step - loss: 1.2200 - acc: 0.5018 - val_loss: 1.1859 - val_acc: 0.5040\n",
      "Epoch 10/120\n",
      "10000/10000 [==============================] - 1s 67us/step - loss: 1.2032 - acc: 0.5003 - val_loss: 1.1975 - val_acc: 0.4950\n",
      "Epoch 11/120\n",
      "10000/10000 [==============================] - 1s 64us/step - loss: 1.1931 - acc: 0.4984 - val_loss: 1.1684 - val_acc: 0.4930\n",
      "Epoch 12/120\n",
      "10000/10000 [==============================] - 1s 71us/step - loss: 1.1813 - acc: 0.5063 - val_loss: 1.1710 - val_acc: 0.5080\n",
      "Epoch 13/120\n",
      "10000/10000 [==============================] - 1s 59us/step - loss: 1.1695 - acc: 0.5162 - val_loss: 1.2871 - val_acc: 0.4620\n",
      "Epoch 14/120\n",
      "10000/10000 [==============================] - 1s 61us/step - loss: 1.1721 - acc: 0.5060 - val_loss: 1.1939 - val_acc: 0.4740\n",
      "Epoch 15/120\n",
      "10000/10000 [==============================] - 1s 64us/step - loss: 1.1554 - acc: 0.5129 - val_loss: 1.1941 - val_acc: 0.4730\n",
      "Epoch 16/120\n",
      "10000/10000 [==============================] - 1s 61us/step - loss: 1.1529 - acc: 0.5150 - val_loss: 1.2254 - val_acc: 0.4680\n",
      "Epoch 17/120\n",
      "10000/10000 [==============================] - 1s 64us/step - loss: 1.1541 - acc: 0.5167 - val_loss: 1.2284 - val_acc: 0.4610\n",
      "Epoch 18/120\n",
      "10000/10000 [==============================] - 1s 65us/step - loss: 1.1472 - acc: 0.5147 - val_loss: 1.2076 - val_acc: 0.4700\n",
      "Epoch 19/120\n",
      "10000/10000 [==============================] - 1s 62us/step - loss: 1.1345 - acc: 0.5245 - val_loss: 1.1792 - val_acc: 0.4870\n",
      "Epoch 20/120\n",
      "10000/10000 [==============================] - 1s 66us/step - loss: 1.1008 - acc: 0.5389 - val_loss: 1.1278 - val_acc: 0.5120\n",
      "Epoch 21/120\n",
      "10000/10000 [==============================] - 1s 68us/step - loss: 0.9728 - acc: 0.5960 - val_loss: 0.8653 - val_acc: 0.6380\n",
      "Epoch 22/120\n",
      "10000/10000 [==============================] - 1s 61us/step - loss: 0.7875 - acc: 0.6852 - val_loss: 0.8718 - val_acc: 0.6600\n",
      "Epoch 23/120\n",
      "10000/10000 [==============================] - 1s 64us/step - loss: 0.7067 - acc: 0.7244 - val_loss: 0.6217 - val_acc: 0.7360\n",
      "Epoch 24/120\n",
      "10000/10000 [==============================] - 1s 63us/step - loss: 0.5904 - acc: 0.7697 - val_loss: 0.5336 - val_acc: 0.7800\n",
      "Epoch 25/120\n",
      "10000/10000 [==============================] - 1s 61us/step - loss: 0.5229 - acc: 0.7975 - val_loss: 0.4801 - val_acc: 0.8080\n",
      "Epoch 26/120\n",
      "10000/10000 [==============================] - 1s 64us/step - loss: 0.4899 - acc: 0.8112 - val_loss: 0.4453 - val_acc: 0.8240\n",
      "Epoch 27/120\n",
      "10000/10000 [==============================] - 1s 64us/step - loss: 0.4402 - acc: 0.8291 - val_loss: 0.4668 - val_acc: 0.8320\n",
      "Epoch 28/120\n",
      "10000/10000 [==============================] - 1s 63us/step - loss: 0.4275 - acc: 0.8361 - val_loss: 0.4053 - val_acc: 0.8430\n",
      "Epoch 29/120\n",
      "10000/10000 [==============================] - 1s 73us/step - loss: 0.4099 - acc: 0.8451 - val_loss: 0.3759 - val_acc: 0.8590\n",
      "Epoch 30/120\n",
      "10000/10000 [==============================] - 1s 62us/step - loss: 0.3876 - acc: 0.8536 - val_loss: 0.3918 - val_acc: 0.8350\n",
      "Epoch 31/120\n",
      "10000/10000 [==============================] - 1s 61us/step - loss: 0.3631 - acc: 0.8600 - val_loss: 0.3655 - val_acc: 0.8540\n",
      "Epoch 32/120\n",
      "10000/10000 [==============================] - 1s 62us/step - loss: 0.3529 - acc: 0.8620 - val_loss: 0.3480 - val_acc: 0.8660\n",
      "Epoch 33/120\n",
      "10000/10000 [==============================] - 1s 63us/step - loss: 0.3393 - acc: 0.8714 - val_loss: 0.3414 - val_acc: 0.8660\n",
      "Epoch 34/120\n",
      "10000/10000 [==============================] - 1s 63us/step - loss: 0.3155 - acc: 0.8773 - val_loss: 0.3425 - val_acc: 0.8680\n",
      "Epoch 35/120\n",
      "10000/10000 [==============================] - 1s 64us/step - loss: 0.3224 - acc: 0.8770 - val_loss: 0.3266 - val_acc: 0.8710\n",
      "Epoch 36/120\n",
      "10000/10000 [==============================] - 1s 62us/step - loss: 0.3055 - acc: 0.8860 - val_loss: 0.3062 - val_acc: 0.8860\n",
      "Epoch 37/120\n",
      "10000/10000 [==============================] - 1s 69us/step - loss: 0.2866 - acc: 0.8908 - val_loss: 0.2780 - val_acc: 0.9010\n",
      "Epoch 38/120\n",
      "10000/10000 [==============================] - 1s 66us/step - loss: 0.2673 - acc: 0.8994 - val_loss: 0.3090 - val_acc: 0.8880\n",
      "Epoch 39/120\n",
      "10000/10000 [==============================] - 1s 62us/step - loss: 0.2561 - acc: 0.9051 - val_loss: 0.2814 - val_acc: 0.9000\n",
      "Epoch 40/120\n",
      "10000/10000 [==============================] - 1s 63us/step - loss: 0.2285 - acc: 0.9141 - val_loss: 0.2623 - val_acc: 0.9030\n",
      "Epoch 41/120\n",
      "10000/10000 [==============================] - 1s 62us/step - loss: 0.2340 - acc: 0.9141 - val_loss: 0.2569 - val_acc: 0.9070\n",
      "Epoch 42/120\n",
      "10000/10000 [==============================] - 1s 64us/step - loss: 0.2207 - acc: 0.9186 - val_loss: 0.2316 - val_acc: 0.9250\n",
      "Epoch 43/120\n",
      "10000/10000 [==============================] - 1s 62us/step - loss: 0.2210 - acc: 0.9189 - val_loss: 0.2589 - val_acc: 0.9130\n",
      "Epoch 44/120\n",
      "10000/10000 [==============================] - 1s 62us/step - loss: 0.2128 - acc: 0.9220 - val_loss: 0.2361 - val_acc: 0.9130\n",
      "Epoch 45/120\n",
      "10000/10000 [==============================] - 1s 63us/step - loss: 0.1944 - acc: 0.9301 - val_loss: 0.2213 - val_acc: 0.9230\n",
      "Epoch 46/120\n",
      "10000/10000 [==============================] - 1s 72us/step - loss: 0.1925 - acc: 0.9313 - val_loss: 0.2100 - val_acc: 0.9260\n",
      "Epoch 47/120\n",
      "10000/10000 [==============================] - 1s 61us/step - loss: 0.1886 - acc: 0.9300 - val_loss: 0.1959 - val_acc: 0.9330\n",
      "Epoch 48/120\n",
      "10000/10000 [==============================] - 1s 63us/step - loss: 0.1814 - acc: 0.9356 - val_loss: 0.2238 - val_acc: 0.9250\n",
      "Epoch 49/120\n",
      "10000/10000 [==============================] - 1s 64us/step - loss: 0.1724 - acc: 0.9404 - val_loss: 0.2209 - val_acc: 0.9350\n",
      "Epoch 50/120\n",
      "10000/10000 [==============================] - 1s 63us/step - loss: 0.1754 - acc: 0.9373 - val_loss: 0.2018 - val_acc: 0.9330\n",
      "Epoch 51/120\n",
      "10000/10000 [==============================] - 1s 64us/step - loss: 0.1596 - acc: 0.9413 - val_loss: 0.2267 - val_acc: 0.9350\n",
      "Epoch 52/120\n",
      "10000/10000 [==============================] - 1s 65us/step - loss: 0.1482 - acc: 0.9485 - val_loss: 0.2165 - val_acc: 0.9270\n",
      "Epoch 53/120\n",
      "10000/10000 [==============================] - 1s 67us/step - loss: 0.1516 - acc: 0.9455 - val_loss: 0.2041 - val_acc: 0.9340\n",
      "Epoch 54/120\n",
      "10000/10000 [==============================] - 1s 70us/step - loss: 0.1422 - acc: 0.9510 - val_loss: 0.2033 - val_acc: 0.9390\n",
      "Epoch 55/120\n",
      "10000/10000 [==============================] - 1s 68us/step - loss: 0.1465 - acc: 0.9494 - val_loss: 0.1782 - val_acc: 0.9420\n",
      "Epoch 56/120\n",
      "10000/10000 [==============================] - 1s 65us/step - loss: 0.1355 - acc: 0.9523 - val_loss: 0.1962 - val_acc: 0.9390\n",
      "Epoch 57/120\n",
      "10000/10000 [==============================] - 1s 63us/step - loss: 0.1455 - acc: 0.9475 - val_loss: 0.2215 - val_acc: 0.9380\n",
      "Epoch 58/120\n",
      "10000/10000 [==============================] - 1s 62us/step - loss: 0.1659 - acc: 0.9406 - val_loss: 0.2066 - val_acc: 0.9340\n",
      "Epoch 59/120\n",
      "10000/10000 [==============================] - 1s 63us/step - loss: 0.1334 - acc: 0.9538 - val_loss: 0.1884 - val_acc: 0.9390\n",
      "Epoch 60/120\n",
      "10000/10000 [==============================] - 1s 62us/step - loss: 0.1385 - acc: 0.9509 - val_loss: 0.1969 - val_acc: 0.9360\n",
      "Epoch 61/120\n",
      "10000/10000 [==============================] - 1s 62us/step - loss: 0.1268 - acc: 0.9545 - val_loss: 0.2278 - val_acc: 0.9410\n",
      "Epoch 62/120\n",
      "10000/10000 [==============================] - 1s 63us/step - loss: 0.1153 - acc: 0.9590 - val_loss: 0.1917 - val_acc: 0.9430\n",
      "Epoch 63/120\n",
      "10000/10000 [==============================] - 1s 71us/step - loss: 0.1160 - acc: 0.9606 - val_loss: 0.1890 - val_acc: 0.9440\n",
      "Epoch 64/120\n",
      "10000/10000 [==============================] - 1s 60us/step - loss: 0.1070 - acc: 0.9609 - val_loss: 0.1821 - val_acc: 0.9480\n",
      "Epoch 65/120\n",
      "10000/10000 [==============================] - 1s 62us/step - loss: 0.1068 - acc: 0.9629 - val_loss: 0.2016 - val_acc: 0.9420\n",
      "Epoch 66/120\n",
      "10000/10000 [==============================] - 1s 62us/step - loss: 0.1036 - acc: 0.9629 - val_loss: 0.1867 - val_acc: 0.9480\n",
      "Epoch 67/120\n",
      "10000/10000 [==============================] - 1s 63us/step - loss: 0.0987 - acc: 0.9646 - val_loss: 0.1853 - val_acc: 0.9470\n",
      "Epoch 68/120\n",
      "10000/10000 [==============================] - 1s 62us/step - loss: 0.0989 - acc: 0.9633 - val_loss: 0.1920 - val_acc: 0.9430\n",
      "Epoch 69/120\n",
      "10000/10000 [==============================] - 1s 62us/step - loss: 0.1033 - acc: 0.9621 - val_loss: 0.2090 - val_acc: 0.9440\n",
      "Epoch 70/120\n",
      "10000/10000 [==============================] - 1s 62us/step - loss: 0.1200 - acc: 0.9593 - val_loss: 0.2144 - val_acc: 0.9470\n",
      "Epoch 71/120\n",
      "10000/10000 [==============================] - 1s 66us/step - loss: 0.1041 - acc: 0.9625 - val_loss: 0.2024 - val_acc: 0.9470\n",
      "Epoch 72/120\n",
      "10000/10000 [==============================] - 1s 67us/step - loss: 0.1268 - acc: 0.9544 - val_loss: 0.2391 - val_acc: 0.9370\n",
      "Epoch 73/120\n",
      "10000/10000 [==============================] - 1s 61us/step - loss: 0.1093 - acc: 0.9623 - val_loss: 0.1864 - val_acc: 0.9490\n",
      "Epoch 74/120\n",
      "10000/10000 [==============================] - 1s 62us/step - loss: 0.1050 - acc: 0.9623 - val_loss: 0.2133 - val_acc: 0.9440\n",
      "Epoch 75/120\n",
      "10000/10000 [==============================] - 1s 62us/step - loss: 0.0895 - acc: 0.9679 - val_loss: 0.1834 - val_acc: 0.9450\n",
      "Epoch 76/120\n",
      "10000/10000 [==============================] - 1s 61us/step - loss: 0.0980 - acc: 0.9655 - val_loss: 0.1773 - val_acc: 0.9470\n",
      "Epoch 77/120\n",
      "10000/10000 [==============================] - 1s 61us/step - loss: 0.1000 - acc: 0.9644 - val_loss: 0.1719 - val_acc: 0.9530\n",
      "Epoch 78/120\n",
      "10000/10000 [==============================] - 1s 64us/step - loss: 0.0852 - acc: 0.9696 - val_loss: 0.1836 - val_acc: 0.9500\n",
      "Epoch 79/120\n",
      "10000/10000 [==============================] - 1s 62us/step - loss: 0.1076 - acc: 0.9614 - val_loss: 0.1698 - val_acc: 0.9510\n",
      "Epoch 80/120\n",
      "10000/10000 [==============================] - 1s 71us/step - loss: 0.0886 - acc: 0.9694 - val_loss: 0.1807 - val_acc: 0.9480\n",
      "Epoch 81/120\n",
      "10000/10000 [==============================] - 1s 60us/step - loss: 0.0721 - acc: 0.9752 - val_loss: 0.1587 - val_acc: 0.9480\n",
      "Epoch 82/120\n",
      "10000/10000 [==============================] - 1s 62us/step - loss: 0.0807 - acc: 0.9730 - val_loss: 0.2053 - val_acc: 0.9350\n",
      "Epoch 83/120\n",
      "10000/10000 [==============================] - 1s 63us/step - loss: 0.1131 - acc: 0.9616 - val_loss: 0.1941 - val_acc: 0.9540\n",
      "Epoch 84/120\n",
      "10000/10000 [==============================] - 1s 62us/step - loss: 0.0935 - acc: 0.9691 - val_loss: 0.1798 - val_acc: 0.9480\n",
      "Epoch 85/120\n",
      "10000/10000 [==============================] - 1s 62us/step - loss: 0.0721 - acc: 0.9765 - val_loss: 0.1818 - val_acc: 0.9520\n",
      "Epoch 86/120\n",
      "10000/10000 [==============================] - 1s 62us/step - loss: 0.0749 - acc: 0.9748 - val_loss: 0.1733 - val_acc: 0.9520\n",
      "Epoch 87/120\n",
      "10000/10000 [==============================] - 1s 65us/step - loss: 0.0695 - acc: 0.9757 - val_loss: 0.1702 - val_acc: 0.9550\n",
      "Epoch 88/120\n",
      "10000/10000 [==============================] - 1s 61us/step - loss: 0.0705 - acc: 0.9742 - val_loss: 0.1863 - val_acc: 0.9530\n",
      "Epoch 89/120\n",
      "10000/10000 [==============================] - 1s 72us/step - loss: 0.0906 - acc: 0.9687 - val_loss: 0.1670 - val_acc: 0.9530\n",
      "Epoch 90/120\n",
      "10000/10000 [==============================] - 1s 64us/step - loss: 0.0681 - acc: 0.9765 - val_loss: 0.1567 - val_acc: 0.9560\n",
      "Epoch 91/120\n",
      "10000/10000 [==============================] - 1s 63us/step - loss: 0.0839 - acc: 0.9722 - val_loss: 0.1635 - val_acc: 0.9560\n",
      "Epoch 92/120\n",
      "10000/10000 [==============================] - 1s 62us/step - loss: 0.0748 - acc: 0.9734 - val_loss: 0.1695 - val_acc: 0.9500\n",
      "Epoch 93/120\n",
      "10000/10000 [==============================] - 1s 62us/step - loss: 0.0634 - acc: 0.9779 - val_loss: 0.1594 - val_acc: 0.9560\n",
      "Epoch 94/120\n",
      "10000/10000 [==============================] - 1s 63us/step - loss: 0.0659 - acc: 0.9770 - val_loss: 0.1646 - val_acc: 0.9540\n",
      "Epoch 95/120\n",
      "10000/10000 [==============================] - 1s 62us/step - loss: 0.0744 - acc: 0.9741 - val_loss: 0.1616 - val_acc: 0.9500\n",
      "Epoch 96/120\n",
      "10000/10000 [==============================] - 1s 64us/step - loss: 0.0708 - acc: 0.9753 - val_loss: 0.1612 - val_acc: 0.9560\n",
      "Epoch 97/120\n",
      "10000/10000 [==============================] - 1s 71us/step - loss: 0.0862 - acc: 0.9691 - val_loss: 0.1583 - val_acc: 0.9530\n",
      "Epoch 98/120\n",
      "10000/10000 [==============================] - 1s 66us/step - loss: 0.0769 - acc: 0.9749 - val_loss: 0.1684 - val_acc: 0.9530\n",
      "Epoch 99/120\n",
      "10000/10000 [==============================] - 1s 61us/step - loss: 0.0722 - acc: 0.9756 - val_loss: 0.1591 - val_acc: 0.9530\n",
      "Epoch 100/120\n",
      "10000/10000 [==============================] - 1s 66us/step - loss: 0.0719 - acc: 0.9744 - val_loss: 0.1431 - val_acc: 0.9560\n",
      "Epoch 101/120\n",
      "10000/10000 [==============================] - 1s 66us/step - loss: 0.0535 - acc: 0.9809 - val_loss: 0.1501 - val_acc: 0.9580\n",
      "Epoch 102/120\n",
      "10000/10000 [==============================] - 1s 65us/step - loss: 0.0577 - acc: 0.9790 - val_loss: 0.1583 - val_acc: 0.9570\n",
      "Epoch 103/120\n",
      "10000/10000 [==============================] - 1s 64us/step - loss: 0.0577 - acc: 0.9810 - val_loss: 0.1877 - val_acc: 0.9500\n",
      "Epoch 104/120\n",
      "10000/10000 [==============================] - 1s 63us/step - loss: 0.0622 - acc: 0.9798 - val_loss: 0.1623 - val_acc: 0.9540\n",
      "Epoch 105/120\n",
      "10000/10000 [==============================] - 1s 65us/step - loss: 0.0544 - acc: 0.9814 - val_loss: 0.1639 - val_acc: 0.9550\n",
      "Epoch 106/120\n",
      "10000/10000 [==============================] - 1s 71us/step - loss: 0.0489 - acc: 0.9831 - val_loss: 0.1474 - val_acc: 0.9610\n",
      "Epoch 107/120\n",
      "10000/10000 [==============================] - 1s 62us/step - loss: 0.0767 - acc: 0.9753 - val_loss: 0.1551 - val_acc: 0.9600\n",
      "Epoch 108/120\n",
      "10000/10000 [==============================] - 1s 64us/step - loss: 0.0741 - acc: 0.9748 - val_loss: 0.1469 - val_acc: 0.9590\n",
      "Epoch 109/120\n",
      "10000/10000 [==============================] - 1s 63us/step - loss: 0.0674 - acc: 0.9763 - val_loss: 0.1188 - val_acc: 0.9620\n",
      "Epoch 110/120\n",
      "10000/10000 [==============================] - 1s 63us/step - loss: 0.0726 - acc: 0.9754 - val_loss: 0.1672 - val_acc: 0.9610\n",
      "Epoch 111/120\n",
      "10000/10000 [==============================] - 1s 64us/step - loss: 0.0623 - acc: 0.9792 - val_loss: 0.1136 - val_acc: 0.9650\n",
      "Epoch 112/120\n",
      "10000/10000 [==============================] - 1s 65us/step - loss: 0.0637 - acc: 0.9786 - val_loss: 0.1152 - val_acc: 0.9680\n",
      "Epoch 113/120\n",
      "10000/10000 [==============================] - 1s 61us/step - loss: 0.0509 - acc: 0.9826 - val_loss: 0.1666 - val_acc: 0.9550\n",
      "Epoch 114/120\n",
      "10000/10000 [==============================] - 1s 72us/step - loss: 0.0840 - acc: 0.9719 - val_loss: 0.1478 - val_acc: 0.9560\n",
      "Epoch 115/120\n",
      "10000/10000 [==============================] - 1s 63us/step - loss: 0.0583 - acc: 0.9825 - val_loss: 0.1225 - val_acc: 0.9640\n",
      "Epoch 116/120\n",
      "10000/10000 [==============================] - 1s 62us/step - loss: 0.0650 - acc: 0.9796 - val_loss: 0.1690 - val_acc: 0.9550\n",
      "Epoch 117/120\n",
      "10000/10000 [==============================] - 1s 61us/step - loss: 0.0584 - acc: 0.9798 - val_loss: 0.1120 - val_acc: 0.9690\n"
     ]
    },
    {
     "name": "stdout",
     "output_type": "stream",
     "text": [
      "Epoch 118/120\n",
      "10000/10000 [==============================] - 1s 63us/step - loss: 0.0530 - acc: 0.9831 - val_loss: 0.1480 - val_acc: 0.9560\n",
      "Epoch 119/120\n",
      "10000/10000 [==============================] - 1s 63us/step - loss: 0.0670 - acc: 0.9794 - val_loss: 0.1254 - val_acc: 0.9650\n",
      "Epoch 120/120\n",
      "10000/10000 [==============================] - 1s 61us/step - loss: 0.0696 - acc: 0.9754 - val_loss: 0.1130 - val_acc: 0.9650\n",
      "Wall time: 1min 32s\n"
     ]
    },
    {
     "data": {
      "text/plain": [
       "<keras.callbacks.History at 0x2863e8846d8>"
      ]
     },
     "execution_count": 28,
     "metadata": {},
     "output_type": "execute_result"
    }
   ],
   "source": [
    "%%time\n",
    "model.fit([inputs_train, questions_train], answers_train,\n",
    "          batch_size=128,\n",
    "          epochs=120,\n",
    "          validation_data=([inputs_test, questions_test], answers_test))"
   ]
  },
  {
   "cell_type": "code",
   "execution_count": 29,
   "metadata": {},
   "outputs": [],
   "source": [
    "model.save('../data/chatbot/chatbot_model.h5')"
   ]
  },
  {
   "cell_type": "code",
   "execution_count": 30,
   "metadata": {},
   "outputs": [],
   "source": [
    "model.load_weights('../data/chatbot/chatbot_model.h5')\n",
    "pred = model.predict(([inputs_test, questions_test]))"
   ]
  },
  {
   "cell_type": "markdown",
   "metadata": {},
   "source": [
    "## Testing with random samples:"
   ]
  },
  {
   "cell_type": "code",
   "execution_count": 31,
   "metadata": {},
   "outputs": [],
   "source": [
    "n = np.random.randint(0,1000)"
   ]
  },
  {
   "cell_type": "code",
   "execution_count": 32,
   "metadata": {},
   "outputs": [
    {
     "name": "stdout",
     "output_type": "stream",
     "text": [
      "Story is: Daniel went to the hallway . Daniel went to the bedroom .\n"
     ]
    }
   ],
   "source": [
    "story_list = test_stories[n][0]\n",
    "story =' '.join(word for word in story_list)\n",
    "print(\"Story is:\",story)"
   ]
  },
  {
   "cell_type": "code",
   "execution_count": 33,
   "metadata": {},
   "outputs": [
    {
     "name": "stdout",
     "output_type": "stream",
     "text": [
      "Question is:  Where is Daniel ?\n"
     ]
    }
   ],
   "source": [
    "question_list = test_stories[n][1]\n",
    "question =' '.join(word for word in question_list)\n",
    "print(\"Question is: \", question)"
   ]
  },
  {
   "cell_type": "code",
   "execution_count": 34,
   "metadata": {},
   "outputs": [
    {
     "name": "stdout",
     "output_type": "stream",
     "text": [
      "Actual answer is:  bedroom\n"
     ]
    }
   ],
   "source": [
    "answer = test_stories[n][2]\n",
    "print(\"Actual answer is: \", answer)"
   ]
  },
  {
   "cell_type": "markdown",
   "metadata": {},
   "source": [
    "### Showing probabilities:"
   ]
  },
  {
   "cell_type": "code",
   "execution_count": 35,
   "metadata": {},
   "outputs": [
    {
     "name": "stdout",
     "output_type": "stream",
     "text": [
      "Machine answer is:  bedroom\n",
      "Machine says: I am  0.99981207 certain of it\n"
     ]
    }
   ],
   "source": [
    "max_value = np.argmax(pred[n])"
   ]
  },
  {
   "cell_type": "code",
   "execution_count": null,
   "metadata": {},
   "outputs": [],
   "source": [
    "for key, val in word2id.items():\n",
    "    if val == max_value:\n",
    "        k = key\n",
    "\n",
    "print(\"Machine answer is: \", k)\n",
    "print(\"Machine says: I am \", pred[n][max_value], \"certain of it\")"
   ]
  },
  {
   "cell_type": "markdown",
   "metadata": {},
   "source": [
    "## Reference:\n",
    "\n",
    "https://research.fb.com/downloads/babi/"
   ]
  }
 ],
 "metadata": {
  "kernelspec": {
   "display_name": "tf1.11_gpu",
   "language": "python",
   "name": "tf111_gpu"
  },
  "language_info": {
   "codemirror_mode": {
    "name": "ipython",
    "version": 3
   },
   "file_extension": ".py",
   "mimetype": "text/x-python",
   "name": "python",
   "nbconvert_exporter": "python",
   "pygments_lexer": "ipython3",
   "version": "3.6.7"
  }
 },
 "nbformat": 4,
 "nbformat_minor": 2
}
