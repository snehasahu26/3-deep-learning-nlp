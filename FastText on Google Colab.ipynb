{
 "cells": [
  {
   "cell_type": "markdown",
   "metadata": {
    "colab_type": "text",
    "id": "mrtVadKTGeOr"
   },
   "source": [
    "<center><u><H1>FastText on Google Colab</H1></u></center>"
   ]
  },
  {
   "cell_type": "code",
   "execution_count": 0,
   "metadata": {
    "colab": {},
    "colab_type": "code",
    "id": "KwpZYfCxxjEl"
   },
   "outputs": [],
   "source": [
    "from tensorflow.python.client import device_lib\n",
    "device_lib.list_local_devices()"
   ]
  },
  {
   "cell_type": "markdown",
   "metadata": {
    "colab_type": "text",
    "id": "JvVKFDnBejGJ"
   },
   "source": [
    "## Downloading fastText model:"
   ]
  },
  {
   "cell_type": "code",
   "execution_count": 0,
   "metadata": {
    "colab": {
     "base_uri": "https://localhost:8080/",
     "height": 286
    },
    "colab_type": "code",
    "executionInfo": {
     "elapsed": 4412,
     "status": "ok",
     "timestamp": 1545501594830,
     "user": {
      "displayName": "CARLOS QUIROS",
      "photoUrl": "https://lh4.googleusercontent.com/-cmLzcUyA-SI/AAAAAAAAAAI/AAAAAAAAAHI/3CEu2CkjTCM/s64/photo.jpg",
      "userId": "07669736790263855207"
     },
     "user_tz": 300
    },
    "id": "3LCNsZqilgOI",
    "outputId": "425b328f-ff32-44e0-ea23-fd7ac4fee115"
   },
   "outputs": [
    {
     "name": "stdout",
     "output_type": "stream",
     "text": [
      "--2018-12-22 17:59:51--  https://github.com/facebookresearch/fastText/archive/v0.1.0.zip\n",
      "Resolving github.com (github.com)... 192.30.253.112, 192.30.253.113\n",
      "Connecting to github.com (github.com)|192.30.253.112|:443... connected.\n",
      "HTTP request sent, awaiting response... 302 Found\n",
      "Location: https://codeload.github.com/facebookresearch/fastText/zip/v0.1.0 [following]\n",
      "--2018-12-22 17:59:52--  https://codeload.github.com/facebookresearch/fastText/zip/v0.1.0\n",
      "Resolving codeload.github.com (codeload.github.com)... 192.30.253.121, 192.30.253.120\n",
      "Connecting to codeload.github.com (codeload.github.com)|192.30.253.121|:443... connected.\n",
      "HTTP request sent, awaiting response... 200 OK\n",
      "Length: unspecified [application/zip]\n",
      "Saving to: ‘v0.1.0.zip’\n",
      "\n",
      "v0.1.0.zip              [  <=>               ]  92.06K   169KB/s    in 0.5s    \n",
      "\n",
      "2018-12-22 17:59:54 (169 KB/s) - ‘v0.1.0.zip’ saved [94267]\n",
      "\n"
     ]
    }
   ],
   "source": [
    "!wget https://github.com/facebookresearch/fastText/archive/v0.1.0.zip"
   ]
  },
  {
   "cell_type": "code",
   "execution_count": 0,
   "metadata": {
    "colab": {
     "base_uri": "https://localhost:8080/",
     "height": 739
    },
    "colab_type": "code",
    "executionInfo": {
     "elapsed": 3894,
     "status": "ok",
     "timestamp": 1545501599001,
     "user": {
      "displayName": "CARLOS QUIROS",
      "photoUrl": "https://lh4.googleusercontent.com/-cmLzcUyA-SI/AAAAAAAAAAI/AAAAAAAAAHI/3CEu2CkjTCM/s64/photo.jpg",
      "userId": "07669736790263855207"
     },
     "user_tz": 300
    },
    "id": "TafkI0Tfmew-",
    "outputId": "08871052-cc97-4060-fb0e-e8a94d3e55f8"
   },
   "outputs": [
    {
     "name": "stdout",
     "output_type": "stream",
     "text": [
      "Archive:  v0.1.0.zip\n",
      "431c9e2a9b5149369cc60fb9f5beba58dcf8ca17\n",
      "   creating: fastText-0.1.0/\n",
      "  inflating: fastText-0.1.0/.gitignore  \n",
      "  inflating: fastText-0.1.0/CONTRIBUTING.md  \n",
      "  inflating: fastText-0.1.0/LICENSE  \n",
      "  inflating: fastText-0.1.0/Makefile  \n",
      "  inflating: fastText-0.1.0/PATENTS  \n",
      "  inflating: fastText-0.1.0/README.md  \n",
      "  inflating: fastText-0.1.0/classification-example.sh  \n",
      "  inflating: fastText-0.1.0/classification-results.sh  \n",
      "  inflating: fastText-0.1.0/eval.py  \n",
      "  inflating: fastText-0.1.0/get-wikimedia.sh  \n",
      "  inflating: fastText-0.1.0/pretrained-vectors.md  \n",
      "  inflating: fastText-0.1.0/quantization-example.sh  \n",
      "  inflating: fastText-0.1.0/quantization-results.sh  \n",
      "   creating: fastText-0.1.0/src/\n",
      "  inflating: fastText-0.1.0/src/args.cc  \n",
      "  inflating: fastText-0.1.0/src/args.h  \n",
      "  inflating: fastText-0.1.0/src/dictionary.cc  \n",
      "  inflating: fastText-0.1.0/src/dictionary.h  \n",
      "  inflating: fastText-0.1.0/src/fasttext.cc  \n",
      "  inflating: fastText-0.1.0/src/fasttext.h  \n",
      "  inflating: fastText-0.1.0/src/main.cc  \n",
      "  inflating: fastText-0.1.0/src/matrix.cc  \n",
      "  inflating: fastText-0.1.0/src/matrix.h  \n",
      "  inflating: fastText-0.1.0/src/model.cc  \n",
      "  inflating: fastText-0.1.0/src/model.h  \n",
      "  inflating: fastText-0.1.0/src/productquantizer.cc  \n",
      "  inflating: fastText-0.1.0/src/productquantizer.h  \n",
      "  inflating: fastText-0.1.0/src/qmatrix.cc  \n",
      "  inflating: fastText-0.1.0/src/qmatrix.h  \n",
      "  inflating: fastText-0.1.0/src/real.h  \n",
      "  inflating: fastText-0.1.0/src/utils.cc  \n",
      "  inflating: fastText-0.1.0/src/utils.h  \n",
      "  inflating: fastText-0.1.0/src/vector.cc  \n",
      "  inflating: fastText-0.1.0/src/vector.h  \n",
      "   creating: fastText-0.1.0/tutorials/\n",
      "  inflating: fastText-0.1.0/tutorials/cbo_vs_skipgram.png  \n",
      "  inflating: fastText-0.1.0/tutorials/supervised-learning.md  \n",
      "  inflating: fastText-0.1.0/tutorials/unsupervised-learning.md  \n",
      "  inflating: fastText-0.1.0/wikifil.pl  \n",
      "  inflating: fastText-0.1.0/word-vector-example.sh  \n"
     ]
    }
   ],
   "source": [
    "!unzip v0.1.0.zip"
   ]
  },
  {
   "cell_type": "code",
   "execution_count": 0,
   "metadata": {
    "colab": {
     "base_uri": "https://localhost:8080/",
     "height": 34
    },
    "colab_type": "code",
    "executionInfo": {
     "elapsed": 3034,
     "status": "ok",
     "timestamp": 1545501599314,
     "user": {
      "displayName": "CARLOS QUIROS",
      "photoUrl": "https://lh4.googleusercontent.com/-cmLzcUyA-SI/AAAAAAAAAAI/AAAAAAAAAHI/3CEu2CkjTCM/s64/photo.jpg",
      "userId": "07669736790263855207"
     },
     "user_tz": 300
    },
    "id": "L-ArtoN8msrV",
    "outputId": "3eb0334e-4664-4814-aa73-862319d5064d"
   },
   "outputs": [
    {
     "name": "stdout",
     "output_type": "stream",
     "text": [
      "/content/fastText-0.1.0\n"
     ]
    }
   ],
   "source": [
    "cd fastText-0.1.0"
   ]
  },
  {
   "cell_type": "code",
   "execution_count": 0,
   "metadata": {
    "colab": {
     "base_uri": "https://localhost:8080/",
     "height": 185
    },
    "colab_type": "code",
    "executionInfo": {
     "elapsed": 18324,
     "status": "ok",
     "timestamp": 1545501615520,
     "user": {
      "displayName": "CARLOS QUIROS",
      "photoUrl": "https://lh4.googleusercontent.com/-cmLzcUyA-SI/AAAAAAAAAAI/AAAAAAAAAHI/3CEu2CkjTCM/s64/photo.jpg",
      "userId": "07669736790263855207"
     },
     "user_tz": 300
    },
    "id": "ljZ1q0Pem7TV",
    "outputId": "221cea31-afc6-4630-fe7c-92704afd1ba2"
   },
   "outputs": [
    {
     "name": "stdout",
     "output_type": "stream",
     "text": [
      "c++ -pthread -std=c++0x -O3 -funroll-loops -c src/args.cc\n",
      "c++ -pthread -std=c++0x -O3 -funroll-loops -c src/dictionary.cc\n",
      "c++ -pthread -std=c++0x -O3 -funroll-loops -c src/productquantizer.cc\n",
      "c++ -pthread -std=c++0x -O3 -funroll-loops -c src/matrix.cc\n",
      "c++ -pthread -std=c++0x -O3 -funroll-loops -c src/qmatrix.cc\n",
      "c++ -pthread -std=c++0x -O3 -funroll-loops -c src/vector.cc\n",
      "c++ -pthread -std=c++0x -O3 -funroll-loops -c src/model.cc\n",
      "c++ -pthread -std=c++0x -O3 -funroll-loops -c src/utils.cc\n",
      "c++ -pthread -std=c++0x -O3 -funroll-loops -c src/fasttext.cc\n",
      "c++ -pthread -std=c++0x -O3 -funroll-loops args.o dictionary.o productquantizer.o matrix.o qmatrix.o vector.o model.o utils.o fasttext.o src/main.cc -o fasttext\n"
     ]
    }
   ],
   "source": [
    "!make"
   ]
  },
  {
   "cell_type": "code",
   "execution_count": 0,
   "metadata": {
    "colab": {
     "base_uri": "https://localhost:8080/",
     "height": 168
    },
    "colab_type": "code",
    "executionInfo": {
     "elapsed": 17887,
     "status": "ok",
     "timestamp": 1545501617495,
     "user": {
      "displayName": "CARLOS QUIROS",
      "photoUrl": "https://lh4.googleusercontent.com/-cmLzcUyA-SI/AAAAAAAAAAI/AAAAAAAAAHI/3CEu2CkjTCM/s64/photo.jpg",
      "userId": "07669736790263855207"
     },
     "user_tz": 300
    },
    "id": "86L5bP9HZMAY",
    "outputId": "71e55d4b-5d3a-4d22-b1d8-661e79fe07ad"
   },
   "outputs": [
    {
     "name": "stdout",
     "output_type": "stream",
     "text": [
      "args.o\t\t\t   LICENSE\t\t    quantization-results.sh\n",
      "classification-example.sh  Makefile\t\t    README.md\n",
      "classification-results.sh  matrix.o\t\t    src\n",
      "CONTRIBUTING.md\t\t   model.o\t\t    tutorials\n",
      "dictionary.o\t\t   PATENTS\t\t    utils.o\n",
      "eval.py\t\t\t   pretrained-vectors.md    vector.o\n",
      "fasttext\t\t   productquantizer.o\t    wikifil.pl\n",
      "fasttext.o\t\t   qmatrix.o\t\t    word-vector-example.sh\n",
      "get-wikimedia.sh\t   quantization-example.sh\n"
     ]
    }
   ],
   "source": [
    "!ls"
   ]
  },
  {
   "cell_type": "code",
   "execution_count": 0,
   "metadata": {
    "colab": {
     "base_uri": "https://localhost:8080/",
     "height": 286
    },
    "colab_type": "code",
    "executionInfo": {
     "elapsed": 19641,
     "status": "ok",
     "timestamp": 1545501620469,
     "user": {
      "displayName": "CARLOS QUIROS",
      "photoUrl": "https://lh4.googleusercontent.com/-cmLzcUyA-SI/AAAAAAAAAAI/AAAAAAAAAHI/3CEu2CkjTCM/s64/photo.jpg",
      "userId": "07669736790263855207"
     },
     "user_tz": 300
    },
    "id": "sTOJtZMdmhwi",
    "outputId": "0b39afdf-cd76-4832-c95a-9abb631f362e"
   },
   "outputs": [
    {
     "name": "stdout",
     "output_type": "stream",
     "text": [
      "usage: fasttext <command> <args>\n",
      "\n",
      "The commands supported by fasttext are:\n",
      "\n",
      "  supervised              train a supervised classifier\n",
      "  quantize                quantize a model to reduce the memory usage\n",
      "  test                    evaluate a supervised classifier\n",
      "  predict                 predict most likely labels\n",
      "  predict-prob            predict most likely labels with probabilities\n",
      "  skipgram                train a skipgram model\n",
      "  cbow                    train a cbow model\n",
      "  print-word-vectors      print word vectors given a trained model\n",
      "  print-sentence-vectors  print sentence vectors given a trained model\n",
      "  nn                      query for nearest neighbors\n",
      "  analogies               query for analogies\n",
      "\n"
     ]
    }
   ],
   "source": [
    "!./fasttext"
   ]
  },
  {
   "cell_type": "markdown",
   "metadata": {
    "colab_type": "text",
    "id": "iUNiw2_irgiF"
   },
   "source": [
    "## Exploring the model"
   ]
  },
  {
   "cell_type": "code",
   "execution_count": 0,
   "metadata": {
    "colab": {
     "base_uri": "https://localhost:8080/",
     "height": 202
    },
    "colab_type": "code",
    "executionInfo": {
     "elapsed": 257161,
     "status": "ok",
     "timestamp": 1545501865813,
     "user": {
      "displayName": "CARLOS QUIROS",
      "photoUrl": "https://lh4.googleusercontent.com/-cmLzcUyA-SI/AAAAAAAAAAI/AAAAAAAAAHI/3CEu2CkjTCM/s64/photo.jpg",
      "userId": "07669736790263855207"
     },
     "user_tz": 300
    },
    "id": "prXcKrH7f-5e",
    "outputId": "fc83b844-1f35-4d83-8820-e5097a4046e7"
   },
   "outputs": [
    {
     "name": "stdout",
     "output_type": "stream",
     "text": [
      "--2018-12-22 18:00:21--  https://s3-us-west-1.amazonaws.com/fasttext-vectors/wiki.es.zip\n",
      "Resolving s3-us-west-1.amazonaws.com (s3-us-west-1.amazonaws.com)... 52.219.20.41\n",
      "Connecting to s3-us-west-1.amazonaws.com (s3-us-west-1.amazonaws.com)|52.219.20.41|:443... connected.\n",
      "HTTP request sent, awaiting response... 200 OK\n",
      "Length: 5445405108 (5.1G) [application/zip]\n",
      "Saving to: ‘wiki.es.zip’\n",
      "\n",
      "wiki.es.zip         100%[===================>]   5.07G  18.9MB/s    in 4m 3s   \n",
      "\n",
      "2018-12-22 18:04:25 (21.4 MB/s) - ‘wiki.es.zip’ saved [5445405108/5445405108]\n",
      "\n"
     ]
    }
   ],
   "source": [
    "#!wget https://s3-us-west-1.amazonaws.com/fasttext-vectors/wiki.en.zip\n",
    "!wget https://s3-us-west-1.amazonaws.com/fasttext-vectors/wiki.es.zip  "
   ]
  },
  {
   "cell_type": "code",
   "execution_count": 0,
   "metadata": {
    "colab": {
     "base_uri": "https://localhost:8080/",
     "height": 67
    },
    "colab_type": "code",
    "executionInfo": {
     "elapsed": 384297,
     "status": "ok",
     "timestamp": 1545501994210,
     "user": {
      "displayName": "CARLOS QUIROS",
      "photoUrl": "https://lh4.googleusercontent.com/-cmLzcUyA-SI/AAAAAAAAAAI/AAAAAAAAAHI/3CEu2CkjTCM/s64/photo.jpg",
      "userId": "07669736790263855207"
     },
     "user_tz": 300
    },
    "id": "53XhKo7l3jeB",
    "outputId": "528a7cfc-45d0-4a4b-ddff-d1e9a79c333f"
   },
   "outputs": [
    {
     "name": "stdout",
     "output_type": "stream",
     "text": [
      "Archive:  wiki.es.zip\n",
      "  inflating: wiki.es.vec             \n",
      "  inflating: wiki.es.bin             \n"
     ]
    }
   ],
   "source": [
    "!unzip wiki.es.zip"
   ]
  },
  {
   "cell_type": "code",
   "execution_count": 0,
   "metadata": {
    "colab": {
     "base_uri": "https://localhost:8080/",
     "height": 185
    },
    "colab_type": "code",
    "executionInfo": {
     "elapsed": 385799,
     "status": "ok",
     "timestamp": 1545501996618,
     "user": {
      "displayName": "CARLOS QUIROS",
      "photoUrl": "https://lh4.googleusercontent.com/-cmLzcUyA-SI/AAAAAAAAAAI/AAAAAAAAAHI/3CEu2CkjTCM/s64/photo.jpg",
      "userId": "07669736790263855207"
     },
     "user_tz": 300
    },
    "id": "STvCJtTD1wOW",
    "outputId": "3652ee0f-5483-4527-9593-e1cbf5aa3e1c"
   },
   "outputs": [
    {
     "name": "stdout",
     "output_type": "stream",
     "text": [
      "args.o\t\t\t   Makefile\t\t    src\n",
      "classification-example.sh  matrix.o\t\t    tutorials\n",
      "classification-results.sh  model.o\t\t    utils.o\n",
      "CONTRIBUTING.md\t\t   PATENTS\t\t    vector.o\n",
      "dictionary.o\t\t   pretrained-vectors.md    wiki.es.bin\n",
      "eval.py\t\t\t   productquantizer.o\t    wiki.es.vec\n",
      "fasttext\t\t   qmatrix.o\t\t    wiki.es.zip\n",
      "fasttext.o\t\t   quantization-example.sh  wikifil.pl\n",
      "get-wikimedia.sh\t   quantization-results.sh  word-vector-example.sh\n",
      "LICENSE\t\t\t   README.md\n"
     ]
    }
   ],
   "source": [
    "!ls"
   ]
  },
  {
   "cell_type": "code",
   "execution_count": 0,
   "metadata": {
    "colab": {
     "base_uri": "https://localhost:8080/",
     "height": 70
    },
    "colab_type": "code",
    "executionInfo": {
     "elapsed": 416718,
     "status": "ok",
     "timestamp": 1545502029197,
     "user": {
      "displayName": "CARLOS QUIROS",
      "photoUrl": "https://lh4.googleusercontent.com/-cmLzcUyA-SI/AAAAAAAAAAI/AAAAAAAAAHI/3CEu2CkjTCM/s64/photo.jpg",
      "userId": "07669736790263855207"
     },
     "user_tz": 300
    },
    "id": "9IKQTnjF_U3B",
    "outputId": "3284fe1e-7314-4a7f-feaf-6410d12b3cc0"
   },
   "outputs": [
    {
     "name": "stdout",
     "output_type": "stream",
     "text": [
      "tcmalloc: large alloc 3582803968 bytes == 0x55730bcb4000 @  0x7fd95c3e9887 0x5572f4c9a43c 0x5572f4ca79cc 0x5572f4ca83e1 0x5572f4cb21dd 0x5572f4c84e0e 0x7fd95b486b97 0x5572f4c84eaa\n",
      "notebook -0.38863 -0.041391 -0.36741 -0.18762 -0.069018 -0.14299 -0.37491 -0.078901 -0.19802 -0.4011 0.31435 -0.45577 -0.50422 -0.04355 -0.12294 -0.39756 0.076626 0.28511 -0.044024 0.14388 -0.0042484 -0.41223 -0.35709 -0.25167 0.06333 -0.2404 -0.39748 0.092266 -0.1047 -0.26367 -0.00073603 -0.10524 -0.26959 0.075107 0.06184 0.085782 -0.19403 -0.33329 0.3104 0.35618 0.41034 0.20024 -0.017272 0.15423 0.17227 -0.015985 -0.24657 -0.12803 -0.24729 0.44574 -0.38882 -0.20157 -0.42222 -0.31027 -0.26517 -0.26732 -0.062093 0.02111 -0.073325 -0.22384 0.1919 -0.43552 0.26088 -0.18041 -0.45633 0.099792 -0.075628 0.45702 -0.093204 0.057148 -0.62263 0.34378 0.20497 0.21644 -0.61366 0.19759 -0.17287 -0.16779 -0.086502 0.1013 0.085492 0.10879 0.49119 0.30205 -0.030044 -0.035294 -0.4747 -0.033827 0.0044436 -0.11578 0.36424 0.2966 -0.10247 -0.39198 -0.17813 -0.55773 0.080981 0.20237 0.27666 -0.043457 0.080818 0.062867 -0.31544 -0.35756 -0.8247 0.075642 0.29434 0.15438 -0.053009 -0.20791 0.35096 0.097477 0.24603 0.2661 -0.059166 -0.17566 0.079426 0.35796 -0.17742 0.06337 0.15571 -0.12234 -0.070275 0.016621 -0.3807 -0.40808 0.12705 0.18853 -0.049012 0.48209 -0.20292 -0.12969 0.017918 0.24444 -0.19095 -0.098557 -0.64255 -0.38379 0.10408 -0.14383 -0.64305 0.081208 0.43744 -0.32563 0.11942 0.050748 0.63059 -0.054598 0.1483 0.37459 -0.32315 0.012998 0.50697 -0.047608 0.14582 0.013121 -0.44281 0.045562 0.10514 -0.5072 0.14842 -0.18317 0.16377 0.16332 0.0012638 0.080497 -0.025526 0.15684 -0.10671 -0.16157 0.29101 0.14829 -0.53524 0.069433 -0.05022 0.094103 -0.55987 -0.49523 -0.17476 0.059018 -0.21936 0.14243 0.091759 -0.18465 0.3306 0.073322 -0.19317 0.24367 -0.14125 0.19304 -0.0094446 0.23419 -0.36962 -0.20796 -0.41163 -0.067849 0.022517 -0.054102 0.27645 0.08574 0.21058 0.10097 0.033916 0.031143 0.6394 -0.071433 0.45888 0.18852 -0.26479 -0.97658 -0.0079632 0.1405 0.20494 -0.11805 -0.35784 0.13308 -0.29747 0.38964 0.23256 -0.019298 -0.31147 0.061826 -0.52466 -0.23433 -0.56208 -0.29273 0.28154 -0.42995 -0.12729 -0.21134 0.07914 -0.38045 0.78569 0.13294 0.1499 -0.24876 0.27406 -0.027886 -0.25296 -0.20238 -0.34099 -0.084238 0.35318 0.065206 0.29831 -0.48934 0.14974 0.21621 0.11412 0.023523 -0.17007 0.35286 -0.52327 -0.024893 -0.24602 -0.0079735 0.086077 0.027473 0.5367 -0.16693 0.09853 -0.60044 0.18057 0.1608 -0.16944 -0.48787 -0.52624 0.016927 -0.28736 0.13481 0.22114 -0.3727 -0.0018245 0.35703 -0.46127 0.30806 0.24683 -0.1091 0.044072 0.17198 -0.081039 -0.20865 -0.19457 -0.078471 -0.098281 -0.25125 0.086108 0.28896 0.19952 -0.090832 -0.36108 -0.1467 0.17908 -0.037134 -0.014306 -0.045718 -0.027854 -0.078456 0.099493 0.11854 \n"
     ]
    }
   ],
   "source": [
    "!echo \"notebook\" | ./fasttext print-word-vectors wiki.es.bin"
   ]
  },
  {
   "cell_type": "code",
   "execution_count": 0,
   "metadata": {
    "colab": {
     "base_uri": "https://localhost:8080/",
     "height": 168
    },
    "colab_type": "code",
    "executionInfo": {
     "elapsed": 2899680,
     "status": "ok",
     "timestamp": 1545504520437,
     "user": {
      "displayName": "CARLOS QUIROS",
      "photoUrl": "https://lh4.googleusercontent.com/-cmLzcUyA-SI/AAAAAAAAAAI/AAAAAAAAAHI/3CEu2CkjTCM/s64/photo.jpg",
      "userId": "07669736790263855207"
     },
     "user_tz": 300
    },
    "id": "fTEyqynArIuM",
    "outputId": "d73ce987-a1a9-4c37-d6da-a98be9e86cc1"
   },
   "outputs": [
    {
     "name": "stdout",
     "output_type": "stream",
     "text": [
      "tcmalloc: large alloc 3582803968 bytes == 0x5617972f8000 @  0x7fd923f52887 0x56178122743c 0x5617812349cc 0x5617812353e1 0x56178123f87c 0x561781211de0 0x7fd922fefb97 0x561781211eaa\n",
      "Pre-computing word vectors... done.\n",
      "Query word? reina\n",
      "exreina 0.668521\n",
      "treina 0.658115\n",
      "reinas 0.657573\n",
      "rey/reina 0.642088\n",
      "princesa 0.641485\n",
      "Query word? ^C\n"
     ]
    }
   ],
   "source": [
    "!./fasttext nn wiki.es.bin 5"
   ]
  },
  {
   "cell_type": "code",
   "execution_count": 0,
   "metadata": {
    "colab": {
     "base_uri": "https://localhost:8080/",
     "height": 272
    },
    "colab_type": "code",
    "executionInfo": {
     "elapsed": 395784,
     "status": "ok",
     "timestamp": 1545356596254,
     "user": {
      "displayName": "CARLOS QUIROS",
      "photoUrl": "https://lh4.googleusercontent.com/-cmLzcUyA-SI/AAAAAAAAAAI/AAAAAAAAAHI/3CEu2CkjTCM/s64/photo.jpg",
      "userId": "07669736790263855207"
     },
     "user_tz": 300
    },
    "id": "5LYka336JUci",
    "outputId": "f63ae67f-c661-4bab-cb4d-d073fca202e5"
   },
   "outputs": [
    {
     "name": "stdout",
     "output_type": "stream",
     "text": [
      "tcmalloc: large alloc 3582803968 bytes == 0x55d49a356000 @  0x7fdc6936a887 0x55d483ee943c 0x55d483ef69cc 0x55d483ef73e1 0x55d483f0198c 0x55d483ed3dcd 0x7fdc68407b97 0x55d483ed3eaa\n",
      "Pre-computing word vectors... done.\n",
      "Query triplet (A - B + C)? amor odio ternura\n",
      "ternura» 0.659729\n",
      "ternuras 0.630301\n",
      "amor», 0.571151\n",
      "islaternura 0.546598\n",
      "amor» 0.538784\n",
      "sensualidad 0.537367\n",
      "dulzura 0.536799\n",
      "ensoñadora 0.527915\n",
      "enamoradísima 0.525622\n",
      "dulzuras 0.517982\n",
      "Query triplet (A - B + C)? ^C\n"
     ]
    }
   ],
   "source": [
    "!./fasttext analogies wiki.es.bin"
   ]
  },
  {
   "cell_type": "markdown",
   "metadata": {
    "colab_type": "text",
    "id": "k6ATlSJkss0n"
   },
   "source": [
    "## TEXT Classification"
   ]
  },
  {
   "cell_type": "markdown",
   "metadata": {
    "colab_type": "text",
    "id": "MJAc9lruppxE"
   },
   "source": [
    "Data from: https://www.kaggle.com/bittlingmayer/amazonreviews/home\n",
    "\n",
    "Amazon reviews:\n",
    "\n",
    "We have only two classes 1 and 2, where __label__1 signifies that the reviewer gave either 1 or 2 stars for the product, while __label__2 indicates a 4 or 5 star rating."
   ]
  },
  {
   "cell_type": "markdown",
   "metadata": {
    "colab_type": "text",
    "id": "5VrbGh6JeZhx"
   },
   "source": [
    "## Installing bzip2"
   ]
  },
  {
   "cell_type": "code",
   "execution_count": 0,
   "metadata": {
    "colab": {
     "base_uri": "https://localhost:8080/",
     "height": 101
    },
    "colab_type": "code",
    "executionInfo": {
     "elapsed": 5757,
     "status": "ok",
     "timestamp": 1545504538875,
     "user": {
      "displayName": "CARLOS QUIROS",
      "photoUrl": "https://lh4.googleusercontent.com/-cmLzcUyA-SI/AAAAAAAAAAI/AAAAAAAAAHI/3CEu2CkjTCM/s64/photo.jpg",
      "userId": "07669736790263855207"
     },
     "user_tz": 300
    },
    "id": "-_dQvjBLDMzD",
    "outputId": "75192dd9-ec00-427f-8023-2d21c4489b7a"
   },
   "outputs": [
    {
     "name": "stdout",
     "output_type": "stream",
     "text": [
      "Reading package lists... Done\n",
      "Building dependency tree       \n",
      "Reading state information... Done\n",
      "bzip2 is already the newest version (1.0.6-8.1).\n",
      "0 upgraded, 0 newly installed, 0 to remove and 8 not upgraded.\n"
     ]
    }
   ],
   "source": [
    "!apt install bzip2"
   ]
  },
  {
   "cell_type": "markdown",
   "metadata": {
    "colab_type": "text",
    "id": "YXy8Sp3CeKIh"
   },
   "source": [
    "## Loading the data:"
   ]
  },
  {
   "cell_type": "code",
   "execution_count": 0,
   "metadata": {
    "colab": {
     "base_uri": "https://localhost:8080/",
     "height": 386
    },
    "colab_type": "code",
    "executionInfo": {
     "elapsed": 134850,
     "status": "ok",
     "timestamp": 1545504678302,
     "user": {
      "displayName": "CARLOS QUIROS",
      "photoUrl": "https://lh4.googleusercontent.com/-cmLzcUyA-SI/AAAAAAAAAAI/AAAAAAAAAHI/3CEu2CkjTCM/s64/photo.jpg",
      "userId": "07669736790263855207"
     },
     "user_tz": 300
    },
    "id": "JFMbI3KkDmhw",
    "outputId": "41ef02ad-830e-4d9a-c228-9ece2dafec00"
   },
   "outputs": [
    {
     "name": "stdout",
     "output_type": "stream",
     "text": [
      "--2018-12-22 18:49:05--  https://storage.googleapis.com/amazonreviews/train.ft.txt.bz2\n",
      "Resolving storage.googleapis.com (storage.googleapis.com)... 74.125.203.128, 2404:6800:4008:c04::80\n",
      "Connecting to storage.googleapis.com (storage.googleapis.com)|74.125.203.128|:443... connected.\n",
      "HTTP request sent, awaiting response... 200 OK\n",
      "Length: 464275989 (443M) [application/x-bzip2]\n",
      "Saving to: ‘train.ft.txt.bz2’\n",
      "\n",
      "train.ft.txt.bz2    100%[===================>] 442.77M  33.4MB/s    in 14s     \n",
      "\n",
      "2018-12-22 18:49:20 (32.6 MB/s) - ‘train.ft.txt.bz2’ saved [464275989/464275989]\n",
      "\n",
      "--2018-12-22 18:49:21--  https://storage.googleapis.com/amazonreviews/test.ft.txt.bz2\n",
      "Resolving storage.googleapis.com (storage.googleapis.com)... 108.177.125.128, 2404:6800:4008:c03::80\n",
      "Connecting to storage.googleapis.com (storage.googleapis.com)|108.177.125.128|:443... connected.\n",
      "HTTP request sent, awaiting response... 200 OK\n",
      "Length: 52653659 (50M) [application/x-bzip2]\n",
      "Saving to: ‘test.ft.txt.bz2’\n",
      "\n",
      "test.ft.txt.bz2     100%[===================>]  50.21M  26.5MB/s    in 1.9s    \n",
      "\n",
      "2018-12-22 18:49:24 (26.5 MB/s) - ‘test.ft.txt.bz2’ saved [52653659/52653659]\n",
      "\n"
     ]
    }
   ],
   "source": [
    "!wget https://storage.googleapis.com/amazonreviews/train.ft.txt.bz2\n",
    "!wget https://storage.googleapis.com/amazonreviews/test.ft.txt.bz2\n",
    "!bzip2 -d train.ft.txt.bz2\n",
    "!bzip2 -d test.ft.txt.bz2"
   ]
  },
  {
   "cell_type": "code",
   "execution_count": 0,
   "metadata": {
    "colab": {
     "base_uri": "https://localhost:8080/",
     "height": 202
    },
    "colab_type": "code",
    "executionInfo": {
     "elapsed": 128233,
     "status": "ok",
     "timestamp": 1545504680005,
     "user": {
      "displayName": "CARLOS QUIROS",
      "photoUrl": "https://lh4.googleusercontent.com/-cmLzcUyA-SI/AAAAAAAAAAI/AAAAAAAAAHI/3CEu2CkjTCM/s64/photo.jpg",
      "userId": "07669736790263855207"
     },
     "user_tz": 300
    },
    "id": "BCtyK-xxx-TC",
    "outputId": "fdb09163-64cb-4175-8c37-0632cdbeb8bd"
   },
   "outputs": [
    {
     "name": "stdout",
     "output_type": "stream",
     "text": [
      "args.o\t\t\t   matrix.o\t\t    train.ft.txt\n",
      "classification-example.sh  model.o\t\t    tutorials\n",
      "classification-results.sh  PATENTS\t\t    utils.o\n",
      "CONTRIBUTING.md\t\t   pretrained-vectors.md    vector.o\n",
      "dictionary.o\t\t   productquantizer.o\t    wiki.es.bin\n",
      "eval.py\t\t\t   qmatrix.o\t\t    wiki.es.vec\n",
      "fasttext\t\t   quantization-example.sh  wiki.es.zip\n",
      "fasttext.o\t\t   quantization-results.sh  wikifil.pl\n",
      "get-wikimedia.sh\t   README.md\t\t    word-vector-example.sh\n",
      "LICENSE\t\t\t   src\n",
      "Makefile\t\t   test.ft.txt\n"
     ]
    }
   ],
   "source": [
    "!ls"
   ]
  },
  {
   "cell_type": "code",
   "execution_count": 0,
   "metadata": {
    "colab": {
     "base_uri": "https://localhost:8080/",
     "height": 34
    },
    "colab_type": "code",
    "executionInfo": {
     "elapsed": 148062,
     "status": "ok",
     "timestamp": 1545504703062,
     "user": {
      "displayName": "CARLOS QUIROS",
      "photoUrl": "https://lh4.googleusercontent.com/-cmLzcUyA-SI/AAAAAAAAAAI/AAAAAAAAAHI/3CEu2CkjTCM/s64/photo.jpg",
      "userId": "07669736790263855207"
     },
     "user_tz": 300
    },
    "id": "VYqJIKv61_7X",
    "outputId": "2825581f-7d98-4ebf-815d-238a01e815bf"
   },
   "outputs": [
    {
     "name": "stdout",
     "output_type": "stream",
     "text": [
      "   3600000  286137836 1597164432 train.ft.txt\n"
     ]
    }
   ],
   "source": [
    "!wc train.ft.txt\n",
    "#number of lines, number of words, number of characters"
   ]
  },
  {
   "cell_type": "code",
   "execution_count": 0,
   "metadata": {
    "colab": {
     "base_uri": "https://localhost:8080/",
     "height": 373
    },
    "colab_type": "code",
    "executionInfo": {
     "elapsed": 3344,
     "status": "ok",
     "timestamp": 1545504758640,
     "user": {
      "displayName": "CARLOS QUIROS",
      "photoUrl": "https://lh4.googleusercontent.com/-cmLzcUyA-SI/AAAAAAAAAAI/AAAAAAAAAHI/3CEu2CkjTCM/s64/photo.jpg",
      "userId": "07669736790263855207"
     },
     "user_tz": 300
    },
    "id": "a3L2CFioEcuQ",
    "outputId": "950bcd17-21cb-4b80-ef61-bb9aa752b870"
   },
   "outputs": [
    {
     "name": "stdout",
     "output_type": "stream",
     "text": [
      "__label__2 Stuning even for the non-gamer: This sound track was beautiful! It paints the senery in your mind so well I would recomend it even to people who hate vid. game music! I have played the game Chrono Cross but out of all of the games I have ever played it has the best music! It backs away from crude keyboarding and takes a fresher step with grate guitars and soulful orchestras. It would impress anyone who cares to listen! ^_^\n",
      "__label__2 The best soundtrack ever to anything.: I'm reading a lot of reviews saying that this is the best 'game soundtrack' and I figured that I'd write a review to disagree a bit. This in my opinino is Yasunori Mitsuda's ultimate masterpiece. The music is timeless and I'm been listening to it for years now and its beauty simply refuses to fade.The price tag on this is pretty staggering I must say, but if you are going to buy any cd for this much money, this is the only one that I feel would be worth every penny.\n",
      "__label__2 Amazing!: This soundtrack is my favorite music of all time, hands down. The intense sadness of \"Prisoners of Fate\" (which means all the more if you've played the game) and the hope in \"A Distant Promise\" and \"Girl who Stole the Star\" have been an important inspiration to me personally throughout my teen years. The higher energy tracks like \"Chrono Cross ~ Time's Scar~\", \"Time of the Dreamwatch\", and \"Chronomantique\" (indefinably remeniscent of Chrono Trigger) are all absolutely superb as well.This soundtrack is amazing music, probably the best of this composer's work (I haven't heard the Xenogears soundtrack, so I can't say for sure), and even if you've never played the game, it would be worth twice the price to buy it.I wish I could give it 6 stars.\n",
      "__label__2 Excellent Soundtrack: I truly like this soundtrack and I enjoy video game music. I have played this game and most of the music on here I enjoy and it's truly relaxing and peaceful.On disk one. my favorites are Scars Of Time, Between Life and Death, Forest Of Illusion, Fortress of Ancient Dragons, Lost Fragment, and Drowned Valley.Disk Two: The Draggons, Galdorb - Home, Chronomantique, Prisoners of Fate, Gale, and my girlfriend likes ZelbessDisk Three: The best of the three. Garden Of God, Chronopolis, Fates, Jellyfish sea, Burning Orphange, Dragon's Prayer, Tower Of Stars, Dragon God, and Radical Dreamers - Unstealable Jewel.Overall, this is a excellent soundtrack and should be brought by those that like video game music.Xander Cross\n",
      "__label__2 Remember, Pull Your Jaw Off The Floor After Hearing it: If you've played the game, you know how divine the music is! Every single song tells a story of the game, it's that good! The greatest songs are without a doubt, Chrono Cross: Time's Scar, Magical Dreamers: The Wind, The Stars, and the Sea and Radical Dreamers: Unstolen Jewel. (Translation varies) This music is perfect if you ask me, the best it can be. Yasunori Mitsuda just poured his heart on and wrote it down on paper.\n",
      "__label__2 an absolute masterpiece: I am quite sure any of you actually taking the time to read this have played the game at least once, and heard at least a few of the tracks here. And whether you were aware of it or not, Mitsuda's music contributed greatly to the mood of every single minute of the whole game.Composed of 3 CDs and quite a few songs (I haven't an exact count), all of which are heart-rendering and impressively remarkable, this soundtrack is one I assure you you will not forget. It has everything for every listener -- from fast-paced and energetic (Dancing the Tokage or Termina Home), to slower and more haunting (Dragon God), to purely beautifully composed (Time's Scar), to even some fantastic vocals (Radical Dreamers).This is one of the best videogame soundtracks out there, and surely Mitsuda's best ever. ^_^\n",
      "__label__1 Buyer beware: This is a self-published book, and if you want to know why--read a few paragraphs! Those 5 star reviews must have been written by Ms. Haddon's family and friends--or perhaps, by herself! I can't imagine anyone reading the whole thing--I spent an evening with the book and a friend and we were in hysterics reading bits and pieces of it to one another. It is most definitely bad enough to be entered into some kind of a \"worst book\" contest. I can't believe Amazon even sells this kind of thing. Maybe I can offer them my 8th grade term paper on \"To Kill a Mockingbird\"--a book I am quite sure Ms. Haddon never heard of. Anyway, unless you are in a mood to send a book to someone as a joke---stay far, far away from this one!\n",
      "__label__2 Glorious story: I loved Whisper of the wicked saints. The story was amazing and I was pleasantly surprised at the changes in the book. I am not normaly someone who is into romance novels, but the world was raving about this book and so I bought it. I loved it !! This is a brilliant story because it is so true. This book was so wonderful that I have told all of my friends to read it. It is not a typical romance, it is so much more. Not reading this book is a crime, becuase you are missing out on a heart warming story.\n",
      "__label__2 A FIVE STAR BOOK: I just finished reading Whisper of the Wicked saints. I fell in love with the caracters. I expected an average romance read, but instead I found one of my favorite books of all time. Just when I thought I could predict the outcome I was shocked ! The writting was so descriptive that my heart broke when Julia's did and I felt as if I was there with them instead of just a distant reader. If you are a lover of romance novels then this is a must read. Don't let the cover fool you this book is spectacular!\n",
      "__label__2 Whispers of the Wicked Saints: This was a easy to read book that made me want to keep reading on and on, not easy to put down.It left me wanting to read the follow on, which I hope is coming soon. I used to read a lot but have gotten away from it. This book made me want to read again. Very enjoyable.\n",
      "__label__1 The Worst!: A complete waste of time. Typographical errors, poor grammar, and a totally pathetic plot add up to absolutely nothing. I'm embarrassed for this author and very disappointed I actually paid for this book.\n",
      "__label__2 Great book: This was a great book,I just could not put it down,and could not read it fast enough. Boy what a book the twist and turns in this just keeps you guessing and wanting to know what is going to happen next. This book makes you fall in love and can heat you up,it can also make you so angery. this book can make you go throu several of your emotions. This is a quick read romance. It is something that you will want to end your day off with if you read at night.\n",
      "__label__2 Great Read: I thought this book was brilliant, but yet realistic. It showed me that to error is human. I loved the fact that this writer showed the loving side of God and not the revengeful side of him. I loved how it twisted and turned and I could not put it down. I also loved The glass castle.\n",
      "__label__1 Oh please: I guess you have to be a romance novel lover for this one, and not a very discerning one. All others beware! It is absolute drivel. I figured I was in trouble when a typo is prominently featured on the back cover, but the first page of the book removed all doubt. Wait - maybe I'm missing the point. A quick re-read of the beginning now makes it clear. This has to be an intentional churning of over-heated prose for satiric purposes. Phew, so glad I didn't waste $10.95 after all.\n",
      "__label__1 Awful beyond belief!: I feel I have to write to keep others from wasting their money. This book seems to have been written by a 7th grader with poor grammatical skills for her age! As another reviewer points out, there is a misspelling on the cover, and I believe there is at least one per chapter. For example, it was mentioned twice that she had a \"lean\" on her house. I was so distracted by the poor writing and weak plot, that I decided to read with a pencil in hand to mark all of the horrible grammar and spelling. Please don't waste your money. I too, believe that the good reviews must have been written by the author's relatives. I will not put much faith in the reviews from now on!\n",
      "__label__1 Don't try to fool us with fake reviews.: It's glaringly obvious that all of the glowing reviews have been written by the same person, perhaps the author herself. They all have the same misspellings and poor sentence structure that is featured in the book. Who made Veronica Haddon think she is an author?\n",
      "__label__2 A romantic zen baseball comedy: When you hear folks say that they don't make 'em like that anymore, they might be talking about \"BY THE SEA\". This is a very cool story about a young Cuban girl searching for idenity who stumbles into a coastal resort kitchen gig with a zen motorcycle maintenance man, three hysterical Italian chefs and a Latino fireballing right handed pitcher who plays on the team sponsored by the resort's owner. As is often the case she 'finds' herself through honest, often comical but always emotional, interaction with this sizzling roster of players. With the perfect mix of special effects, that salsa sound and flashbacks, BY THE SEA, gets 4 BIG stars from me!\n",
      "__label__2 Fashionable Compression Stockings!: After I had a DVT my doctor required me to wear compression stockings. I wore ugly white TED hose and yucky thick brown stockings. Then I found Jobst UltraSheer. They gave me the compression I needed (15-20,) but looked like regular pantyhose. Even though my blood clot has been gone for 4 years, I still buy these to wear as support stockings because they make my legs feel so nice.**Note, I have problems with the rubberized tops rolling down my thigh. I tried the Jobst adhesive, but I hated having my skin pulled all day. I bought an inexpensive garter belt and it works fine and helps keep the stockings from rolling.\n",
      "__label__2 Jobst UltraSheer Thigh High: Excellent product. However, they are very difficult to get on for older people. I feel like I've had a full day workout after getting them on. Also, as the day wears on, they begin to roll down from the top and create a very deep ridge in the skin. I have to wear them, so if those two difficulties could be addressed it would be such a help.\n",
      "__label__1 sizes recomended in the size chart are not real: sizes are much smaller than what is recomended in the chart. I tried to put it and sheer it!. I guess you should not buy this item in the internet..it is better to go to the store and check it\n"
     ]
    }
   ],
   "source": [
    "!head -n 20 train.ft.txt"
   ]
  },
  {
   "cell_type": "markdown",
   "metadata": {
    "colab_type": "text",
    "id": "1WhfTklke0S9"
   },
   "source": [
    "## Cleaning the text:"
   ]
  },
  {
   "cell_type": "code",
   "execution_count": 0,
   "metadata": {
    "colab": {
     "base_uri": "https://localhost:8080/",
     "height": 34
    },
    "colab_type": "code",
    "executionInfo": {
     "elapsed": 2829,
     "status": "ok",
     "timestamp": 1545585193907,
     "user": {
      "displayName": "CARLOS QUIROS",
      "photoUrl": "https://lh4.googleusercontent.com/-cmLzcUyA-SI/AAAAAAAAAAI/AAAAAAAAAHI/3CEu2CkjTCM/s64/photo.jpg",
      "userId": "07669736790263855207"
     },
     "user_tz": 300
    },
    "id": "8TlAc3d4oLs9",
    "outputId": "76479e08-2275-4134-bf8e-7c56900b9644"
   },
   "outputs": [
    {
     "name": "stdout",
     "output_type": "stream",
     "text": [
      "cat: train.ft.txt: No such file or directory\n"
     ]
    }
   ],
   "source": [
    "!cat train.ft.txt | sed -e \"s/\\([.\\!?,’/()]\\)/ \\1 /g\" | tr \"[:upper:]\" \"[:lower:]\" > train_clean.ft.txt"
   ]
  },
  {
   "cell_type": "code",
   "execution_count": 0,
   "metadata": {
    "colab": {
     "base_uri": "https://localhost:8080/",
     "height": 34
    },
    "colab_type": "code",
    "executionInfo": {
     "elapsed": 3196,
     "status": "ok",
     "timestamp": 1545585183309,
     "user": {
      "displayName": "CARLOS QUIROS",
      "photoUrl": "https://lh4.googleusercontent.com/-cmLzcUyA-SI/AAAAAAAAAAI/AAAAAAAAAHI/3CEu2CkjTCM/s64/photo.jpg",
      "userId": "07669736790263855207"
     },
     "user_tz": 300
    },
    "id": "iA4heIev8lGn",
    "outputId": "111a8bd8-8485-4b78-cf94-1765f4192a27"
   },
   "outputs": [
    {
     "name": "stdout",
     "output_type": "stream",
     "text": [
      "head: cannot open 'train.ft.txt' for reading: No such file or directory\n"
     ]
    }
   ],
   "source": [
    "!head -n 20 train_clean.ft.txt"
   ]
  },
  {
   "cell_type": "code",
   "execution_count": 0,
   "metadata": {
    "colab": {
     "base_uri": "https://localhost:8080/",
     "height": 34
    },
    "colab_type": "code",
    "executionInfo": {
     "elapsed": 89450,
     "status": "ok",
     "timestamp": 1545358487195,
     "user": {
      "displayName": "CARLOS QUIROS",
      "photoUrl": "https://lh4.googleusercontent.com/-cmLzcUyA-SI/AAAAAAAAAAI/AAAAAAAAAHI/3CEu2CkjTCM/s64/photo.jpg",
      "userId": "07669736790263855207"
     },
     "user_tz": 300
    },
    "id": "1V2gJKgJCEMg",
    "outputId": "290a95fe-e653-4a2c-b919-b0aa5713e51b"
   },
   "outputs": [
    {
     "name": "stdout",
     "output_type": "stream",
     "text": [
      "   3600000  326839777 1670403886 train_clean.ft.txt\n"
     ]
    }
   ],
   "source": [
    "!wc train_clean.ft.txt"
   ]
  },
  {
   "cell_type": "code",
   "execution_count": 0,
   "metadata": {
    "colab": {},
    "colab_type": "code",
    "id": "jp_mMmqD_ut-"
   },
   "outputs": [],
   "source": [
    "!head -n 1000000 train_clean.ft.txt > model_reduced.ft.txt"
   ]
  },
  {
   "cell_type": "code",
   "execution_count": 0,
   "metadata": {
    "colab": {
     "base_uri": "https://localhost:8080/",
     "height": 202
    },
    "colab_type": "code",
    "executionInfo": {
     "elapsed": 3672,
     "status": "ok",
     "timestamp": 1545358510937,
     "user": {
      "displayName": "CARLOS QUIROS",
      "photoUrl": "https://lh4.googleusercontent.com/-cmLzcUyA-SI/AAAAAAAAAAI/AAAAAAAAAHI/3CEu2CkjTCM/s64/photo.jpg",
      "userId": "07669736790263855207"
     },
     "user_tz": 300
    },
    "id": "O-NKWGwGAiYE",
    "outputId": "b90ff52b-63cc-4d5d-ac97-da63670716d1"
   },
   "outputs": [
    {
     "name": "stdout",
     "output_type": "stream",
     "text": [
      "args.o\t\t\t   matrix.o\t\t    test.ft.txt\n",
      "classification-example.sh  model.o\t\t    train_clean.ft.txt\n",
      "classification-results.sh  model_reduced.ft.txt     train.ft.txt\n",
      "CONTRIBUTING.md\t\t   PATENTS\t\t    tutorials\n",
      "dictionary.o\t\t   pretrained-vectors.md    utils.o\n",
      "eval.py\t\t\t   productquantizer.o\t    vector.o\n",
      "fasttext\t\t   qmatrix.o\t\t    wiki.es.bin\n",
      "fasttext.o\t\t   quantization-example.sh  wiki.es.vec\n",
      "get-wikimedia.sh\t   quantization-results.sh  wiki.es.zip\n",
      "LICENSE\t\t\t   README.md\t\t    wikifil.pl\n",
      "Makefile\t\t   src\t\t\t    word-vector-example.sh\n"
     ]
    }
   ],
   "source": [
    "!ls"
   ]
  },
  {
   "cell_type": "markdown",
   "metadata": {
    "colab_type": "text",
    "id": "hjkK76AVfYM4"
   },
   "source": [
    "## Training the model:"
   ]
  },
  {
   "cell_type": "code",
   "execution_count": 0,
   "metadata": {
    "colab": {
     "base_uri": "https://localhost:8080/",
     "height": 154
    },
    "colab_type": "code",
    "executionInfo": {
     "elapsed": 303170,
     "status": "ok",
     "timestamp": 1545358834279,
     "user": {
      "displayName": "CARLOS QUIROS",
      "photoUrl": "https://lh4.googleusercontent.com/-cmLzcUyA-SI/AAAAAAAAAAI/AAAAAAAAAHI/3CEu2CkjTCM/s64/photo.jpg",
      "userId": "07669736790263855207"
     },
     "user_tz": 300
    },
    "id": "OCKyPeCknRQi",
    "outputId": "5f5e960b-acfb-4e0a-c417-5417b39b40ef"
   },
   "outputs": [
    {
     "name": "stdout",
     "output_type": "stream",
     "text": [
      "Read 92M words\n",
      "Number of words:  806250\n",
      "Number of labels: 2\n",
      "tcmalloc: large alloc 1122500608 bytes == 0x55c770cd0000 @  0x7f5087f1b887 0x55c75ba972ec 0x55c75baac44b 0x55c75bab1bdf 0x55c75ba83c37 0x7f5086fb8b97 0x55c75ba83eaa\n",
      "Progress: 100.0%  words/sec/thread: 1034158  lr: 0.000000  loss: 0.135268  eta: 0h0m \n",
      "CPU times: user 4.63 s, sys: 899 ms, total: 5.53 s\n",
      "Wall time: 5min 2s\n"
     ]
    }
   ],
   "source": [
    "%%time\n",
    "!./fasttext supervised -input model_reduced.ft.txt -output sentiment_amazon -label __label__ -epoch 5 -lr 0.5 -wordNgrams 3"
   ]
  },
  {
   "cell_type": "code",
   "execution_count": 0,
   "metadata": {
    "colab": {
     "base_uri": "https://localhost:8080/",
     "height": 218
    },
    "colab_type": "code",
    "executionInfo": {
     "elapsed": 3085,
     "status": "ok",
     "timestamp": 1545358922314,
     "user": {
      "displayName": "CARLOS QUIROS",
      "photoUrl": "https://lh4.googleusercontent.com/-cmLzcUyA-SI/AAAAAAAAAAI/AAAAAAAAAHI/3CEu2CkjTCM/s64/photo.jpg",
      "userId": "07669736790263855207"
     },
     "user_tz": 300
    },
    "id": "m1JZxVcbEuV9",
    "outputId": "60b14b81-65a5-47c8-cb28-e55fb60ef7a6"
   },
   "outputs": [
    {
     "name": "stdout",
     "output_type": "stream",
     "text": [
      "args.o\t\t\t   model.o\t\t    test.ft.txt\n",
      "classification-example.sh  model_reduced.ft.txt     train_clean.ft.txt\n",
      "classification-results.sh  PATENTS\t\t    train.ft.txt\n",
      "CONTRIBUTING.md\t\t   pretrained-vectors.md    tutorials\n",
      "dictionary.o\t\t   productquantizer.o\t    utils.o\n",
      "eval.py\t\t\t   qmatrix.o\t\t    vector.o\n",
      "fasttext\t\t   quantization-example.sh  wiki.es.bin\n",
      "fasttext.o\t\t   quantization-results.sh  wiki.es.vec\n",
      "get-wikimedia.sh\t   README.md\t\t    wiki.es.zip\n",
      "LICENSE\t\t\t   sentiment_amazon.bin     wikifil.pl\n",
      "Makefile\t\t   sentiment_amazon.vec     word-vector-example.sh\n",
      "matrix.o\t\t   src\n"
     ]
    }
   ],
   "source": [
    "!ls"
   ]
  },
  {
   "cell_type": "markdown",
   "metadata": {
    "colab_type": "text",
    "id": "plhMY658hfLN"
   },
   "source": [
    "## Testing the model:"
   ]
  },
  {
   "cell_type": "code",
   "execution_count": 0,
   "metadata": {
    "colab": {
     "base_uri": "https://localhost:8080/",
     "height": 121
    },
    "colab_type": "code",
    "executionInfo": {
     "elapsed": 22218,
     "status": "ok",
     "timestamp": 1545359742174,
     "user": {
      "displayName": "CARLOS QUIROS",
      "photoUrl": "https://lh4.googleusercontent.com/-cmLzcUyA-SI/AAAAAAAAAAI/AAAAAAAAAHI/3CEu2CkjTCM/s64/photo.jpg",
      "userId": "07669736790263855207"
     },
     "user_tz": 300
    },
    "id": "CCp8dJpf-BTC",
    "outputId": "24708c42-0ff0-49ba-dd9d-09211c3671e7"
   },
   "outputs": [
    {
     "name": "stdout",
     "output_type": "stream",
     "text": [
      "tcmalloc: large alloc 1122500608 bytes == 0x564187c4a000 @  0x7f00944a9887 0x56417665743c 0x5641766649cc 0x5641766653e1 0x56417666f483 0x564176641e49 0x7f0093546b97 0x564176641eaa\n",
      "N\t400000\n",
      "P@1\t0.881\n",
      "R@1\t0.881\n",
      "Number of examples: 400000\n"
     ]
    }
   ],
   "source": [
    "!./fasttext test sentiment_amazon.bin test.ft.txt\n",
    "#Output: precision / recall"
   ]
  },
  {
   "cell_type": "markdown",
   "metadata": {
    "colab_type": "text",
    "id": "YhXOYps4Pcxd"
   },
   "source": [
    "## Making Predictions"
   ]
  },
  {
   "cell_type": "code",
   "execution_count": 0,
   "metadata": {
    "colab": {
     "base_uri": "https://localhost:8080/",
     "height": 6372798,
     "output_embedded_package_id": "1sVCWDzVKem9d3yJEDyIqliIYzS54z5Cf"
    },
    "colab_type": "code",
    "executionInfo": {
     "elapsed": 34082,
     "status": "ok",
     "timestamp": 1545360099642,
     "user": {
      "displayName": "CARLOS QUIROS",
      "photoUrl": "https://lh4.googleusercontent.com/-cmLzcUyA-SI/AAAAAAAAAAI/AAAAAAAAAHI/3CEu2CkjTCM/s64/photo.jpg",
      "userId": "07669736790263855207"
     },
     "user_tz": 300
    },
    "id": "gZqoDigT-2Eo",
    "outputId": "026296ce-2624-4319-ad9a-098e1d4bd5a1"
   },
   "outputs": [
    {
     "data": {
      "text/plain": [
       "Output hidden; open in https://colab.research.google.com to view."
      ]
     },
     "metadata": {},
     "output_type": "display_data"
    }
   ],
   "source": [
    "!./fasttext predict sentiment_amazon.bin test.ft.txt 1\n",
    "#k: last number, represents the top k labels for each review"
   ]
  },
  {
   "cell_type": "markdown",
   "metadata": {
    "colab_type": "text",
    "id": "zvHZrWeyPTQI"
   },
   "source": [
    "## Embedding Vector"
   ]
  },
  {
   "cell_type": "code",
   "execution_count": 0,
   "metadata": {
    "colab": {
     "base_uri": "https://localhost:8080/",
     "height": 70
    },
    "colab_type": "code",
    "executionInfo": {
     "elapsed": 6978,
     "status": "ok",
     "timestamp": 1545358967830,
     "user": {
      "displayName": "CARLOS QUIROS",
      "photoUrl": "https://lh4.googleusercontent.com/-cmLzcUyA-SI/AAAAAAAAAAI/AAAAAAAAAHI/3CEu2CkjTCM/s64/photo.jpg",
      "userId": "07669736790263855207"
     },
     "user_tz": 300
    },
    "id": "V41NmbhGPFHB",
    "outputId": "f9fbe9b2-9415-4c47-c781-09321b539a8e"
   },
   "outputs": [
    {
     "name": "stdout",
     "output_type": "stream",
     "text": [
      "tcmalloc: large alloc 1122500608 bytes == 0x559ebe43c000 @  0x7ff9fc86f887 0x559eabe5243c 0x559eabe5f9cc 0x559eabe603e1 0x559eabe6a1dd 0x559eabe3ce0e 0x7ff9fb90cb97 0x559eabe3ceaa\n",
      "laptop 0.011225 0.00090258 -0.013487 0.0053669 0.0046355 0.0013649 -0.010597 0.0056601 0.0059065 0.0053603 -0.00046055 -0.0018156 0.00099282 0.0080198 -0.0039922 -0.0036041 -0.00013655 -0.013985 -0.0069846 -0.0029751 -0.0033721 0.0034321 -0.0024614 0.0057717 -0.0063592 0.010745 -0.0024222 -0.0082812 -0.017762 0.010009 4.4463e-05 -0.0061159 -0.0052048 -0.0040597 -0.0073048 -0.0019388 -9.1917e-05 -0.0065816 -0.005934 0.015955 -0.0008324 0.010783 -0.0098569 0.010083 0.0075091 0.0060111 -0.010531 -0.0082694 -0.014075 0.011761 -0.0040339 -0.0092697 -0.008327 -0.0014735 -0.011839 -0.012271 -0.0020662 0.0090999 0.0010633 -0.0085731 0.0034415 0.018382 0.0128 0.0041434 -0.005198 0.0017859 -0.001986 -0.0084128 -0.012297 0.0048784 0.0020976 -0.0010526 -0.0032358 0.0035031 -0.0019306 0.0053505 0.0057838 0.0054278 -0.0094387 0.0067758 0.002375 -0.0070735 -0.0018696 -0.0010445 0.011602 0.0047769 -0.0075171 0.0011924 -0.00029677 0.0064342 -0.0065043 0.0038238 0.003512 -0.0072336 -0.01433 -0.017313 -0.012056 -0.0039834 -0.013091 -0.0032396 \n"
     ]
    }
   ],
   "source": [
    "!echo \"laptop\" | ./fasttext print-word-vectors sentiment_amazon.bin"
   ]
  },
  {
   "cell_type": "markdown",
   "metadata": {
    "colab_type": "text",
    "id": "BXJgCGczZF16"
   },
   "source": [
    "## Finding similar words:"
   ]
  },
  {
   "cell_type": "code",
   "execution_count": 0,
   "metadata": {
    "colab": {
     "base_uri": "https://localhost:8080/",
     "height": 642
    },
    "colab_type": "code",
    "executionInfo": {
     "elapsed": 59356,
     "status": "ok",
     "timestamp": 1545359042000,
     "user": {
      "displayName": "CARLOS QUIROS",
      "photoUrl": "https://lh4.googleusercontent.com/-cmLzcUyA-SI/AAAAAAAAAAI/AAAAAAAAAHI/3CEu2CkjTCM/s64/photo.jpg",
      "userId": "07669736790263855207"
     },
     "user_tz": 300
    },
    "id": "m-QoSOtnkLoa",
    "outputId": "95fb1216-585b-44b7-892b-88cb27a01dc2"
   },
   "outputs": [
    {
     "name": "stdout",
     "output_type": "stream",
     "text": [
      "tcmalloc: large alloc 1122500608 bytes == 0x55638cb4e000 @  0x7fb627c7e887 0x556379f5d43c 0x556379f6a9cc 0x556379f6b3e1 0x556379f7587c 0x556379f47de0 0x7fb626d1bb97 0x556379f47eaa\n",
      "Pre-computing word vectors... done.\n",
      "Query word? alexa\n",
      "boudt 0.887984\n",
      "yto 0.884258\n",
      "tales: 0.882203\n",
      "asimov's 0.880595\n",
      "scenerios 0.878894\n",
      "jasc 0.87852\n",
      "nichols 0.877574\n",
      "inculcated 0.877555\n",
      "farting 0.877552\n",
      "9+ 0.877336\n",
      "Query word? oled\n",
      "secondsreads 0.530047\n",
      "loach 0.494326\n",
      "omnis 0.484163\n",
      "mega-blast 0.474459\n",
      "agrivated 0.4734\n",
      "singing-samples 0.469985\n",
      "carved-foam 0.469775\n",
      "deal--the 0.468878\n",
      "showme 0.468573\n",
      "youbecome 0.466695\n",
      "Query word? laptop\n",
      "\"stare 0.699268\n",
      "dizzyingly 0.69152\n",
      "vraca 0.690675\n",
      ":-d 0.685596\n",
      "cayce-edgar 0.685436\n",
      "spivok 0.679247\n",
      "ccountry 0.678104\n",
      "1866 0.677955\n",
      "hatin': 0.677723\n",
      "obrigatory 0.677345\n",
      "Query word? ^C\n"
     ]
    }
   ],
   "source": [
    "!./fasttext nn sentiment_amazon.bin"
   ]
  },
  {
   "cell_type": "markdown",
   "metadata": {
    "colab_type": "text",
    "id": "7mwxUv3Ju3sw"
   },
   "source": [
    "## Reference:\n",
    "Pre-trained weights: https://github.com/facebookresearch/fastText/blob/master/pretrained-vectors.md\n",
    "\n",
    "https://colab.research.google.com/notebooks/basic_features_overview.ipynb"
   ]
  }
 ],
 "metadata": {
  "accelerator": "GPU",
  "colab": {
   "collapsed_sections": [],
   "name": "FastText on Google Colab.ipynb",
   "provenance": [],
   "version": "0.3.2"
  },
  "kernelspec": {
   "display_name": "Python 3",
   "language": "python",
   "name": "python3"
  },
  "language_info": {
   "codemirror_mode": {
    "name": "ipython",
    "version": 3
   },
   "file_extension": ".py",
   "mimetype": "text/x-python",
   "name": "python",
   "nbconvert_exporter": "python",
   "pygments_lexer": "ipython3",
   "version": "3.6.7"
  }
 },
 "nbformat": 4,
 "nbformat_minor": 1
}
